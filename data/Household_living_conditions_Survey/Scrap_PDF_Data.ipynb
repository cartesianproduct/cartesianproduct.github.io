{
 "cells": [
  {
   "cell_type": "code",
   "execution_count": 1,
   "metadata": {
    "collapsed": false
   },
   "outputs": [],
   "source": [
    "from PyPDF2 import PdfFileWriter, PdfFileReader\n",
    "import textract,re, pandas as pd"
   ]
  },
  {
   "cell_type": "code",
   "execution_count": 20,
   "metadata": {
    "collapsed": false
   },
   "outputs": [],
   "source": [
    "inputpdf = PdfFileReader(open(\"FA1MMRPovertyProfile_Eng.pdf\", \"rb\"))\n",
    "\n",
    "i = 57\n",
    "#for i in xrange(inputpdf.numPages):\n",
    "output = PdfFileWriter()\n",
    "output.addPage(inputpdf.getPage(i))\n",
    "with open(\"document-page%s.pdf\" % i, \"wb\") as outputStream:\n",
    "    output.write(outputStream)"
   ]
  },
  {
   "cell_type": "code",
   "execution_count": 44,
   "metadata": {
    "collapsed": false
   },
   "outputs": [],
   "source": [
    "def clean(text):\n",
    "    text = re.sub(r'[\\x00-\\x08\\x0b\\x0c\\x0e-\\x1f\\x7f-\\xff|\\n]', ' ', text.lower())\n",
    "    return text"
   ]
  },
  {
   "cell_type": "code",
   "execution_count": 45,
   "metadata": {
    "collapsed": false
   },
   "outputs": [],
   "source": [
    "data = pd.read_excel('data.xlsx')\n",
    "data = data.values"
   ]
  },
  {
   "cell_type": "code",
   "execution_count": 46,
   "metadata": {
    "collapsed": false
   },
   "outputs": [
    {
     "data": {
      "text/plain": [
       "[['kachin', '0.75', '0.81', '0.95', '0.74', '0.80', '0.70', '13.0'],\n",
       " ['kayah', '0.61', '0.53', '0.65', '0.47', '0.54', '0.55', '-1.8'],\n",
       " ['kayin', '0.56', '0.69', '0.66', '0.66', '0.66', '0.65', '2.0'],\n",
       " ['chin', '0.52', '0.64', '0.86', '0.47', '0.55', '0.63', '-12.1'],\n",
       " ['sagaing', '0.52', '0.57', '0.73', '0.54', '0.57', '0.61', '-7.2'],\n",
       " ['tanintharyi', '0.73', '0.77', '0.89', '0.72', '0.76', '0.76', '-1.0'],\n",
       " ['bago', '0.55', '0.62', '0.80', '0.58', '0.60', '0.54', '11.5'],\n",
       " ['-', 'bago', '(e)', '0.58', '0.73', '0.83', '0.68', '0.70', '0.58', '22.0'],\n",
       " ['-', 'bago', '(w)', '0.50', '0.50', '0.75', '0.47', '0.50', '0.50', '-0.5'],\n",
       " ['magwe', '0.46', '0.49', '0.79', '0.46', '0.48', '0.51', '-4.7'],\n",
       " ['mandalay', '0.50', '0.66', '0.83', '0.54', '0.61', '0.62', '-0.5'],\n",
       " ['mon', '0.68', '0.76', '0.79', '0.73', '0.74', '0.80', '-6.5'],\n",
       " ['rakhine', '1.17', '1.03', '1.08', '1.09', '1.09', '1.00', '8.4'],\n",
       " ['yangon', '0.89', '0.96', '1.01', '0.78', '0.95', '0.93', '1.8'],\n",
       " ['shan', '0.41', '0.47', '0.63', '0.39', '0.45', '0.43', '4.9'],\n",
       " ['-', 'shan', '(s)', '0.47', '0.47', '0.59', '0.43', '0.47', '0.46', '2.0'],\n",
       " ['-', 'shan', '(n)', '0.38', '0.47', '0.73', '0.37', '0.43', '0.39', '9.8'],\n",
       " ['-', 'shan', '(e)', '0.39', '0.43', '0.56', '0.36', '0.41', '0.41', '-0.5'],\n",
       " ['ayeyarwaddy', '0.66', '0.72', '0.79', '0.68', '0.70', '0.60', '15.2']]"
      ]
     },
     "execution_count": 46,
     "metadata": {},
     "output_type": "execute_result"
    }
   ],
   "source": [
    "l = [clean(data[i][0].strip()).encode('ascii', 'ignore').split() for i in range(0,len(data),2)]\n",
    "l"
   ]
  },
  {
   "cell_type": "code",
   "execution_count": 47,
   "metadata": {
    "collapsed": false
   },
   "outputs": [],
   "source": [
    "s = ''\n",
    "numbers = []\n",
    "final = []\n",
    "for j in l:\n",
    "    for i in j:\n",
    "        try:\n",
    "            numbers.append(float(i))\n",
    "        except:\n",
    "            s+=i\n",
    "\n",
    "    t = [s] + numbers\n",
    "    final.append(t)\n",
    "    s =''\n",
    "    numbers = []"
   ]
  },
  {
   "cell_type": "code",
   "execution_count": 48,
   "metadata": {
    "collapsed": false
   },
   "outputs": [
    {
     "data": {
      "text/plain": [
       "[['kachin', 0.75, 0.81, 0.95, 0.74, 0.8, 0.7, 13.0],\n",
       " ['kayah', 0.61, 0.53, 0.65, 0.47, 0.54, 0.55, -1.8],\n",
       " ['kayin', 0.56, 0.69, 0.66, 0.66, 0.66, 0.65, 2.0],\n",
       " ['chin', 0.52, 0.64, 0.86, 0.47, 0.55, 0.63, -12.1],\n",
       " ['sagaing', 0.52, 0.57, 0.73, 0.54, 0.57, 0.61, -7.2],\n",
       " ['tanintharyi', 0.73, 0.77, 0.89, 0.72, 0.76, 0.76, -1.0],\n",
       " ['bago', 0.55, 0.62, 0.8, 0.58, 0.6, 0.54, 11.5],\n",
       " ['-bago(e)', 0.58, 0.73, 0.83, 0.68, 0.7, 0.58, 22.0],\n",
       " ['-bago(w)', 0.5, 0.5, 0.75, 0.47, 0.5, 0.5, -0.5],\n",
       " ['magwe', 0.46, 0.49, 0.79, 0.46, 0.48, 0.51, -4.7],\n",
       " ['mandalay', 0.5, 0.66, 0.83, 0.54, 0.61, 0.62, -0.5],\n",
       " ['mon', 0.68, 0.76, 0.79, 0.73, 0.74, 0.8, -6.5],\n",
       " ['rakhine', 1.17, 1.03, 1.08, 1.09, 1.09, 1.0, 8.4],\n",
       " ['yangon', 0.89, 0.96, 1.01, 0.78, 0.95, 0.93, 1.8],\n",
       " ['shan', 0.41, 0.47, 0.63, 0.39, 0.45, 0.43, 4.9],\n",
       " ['-shan(s)', 0.47, 0.47, 0.59, 0.43, 0.47, 0.46, 2.0],\n",
       " ['-shan(n)', 0.38, 0.47, 0.73, 0.37, 0.43, 0.39, 9.8],\n",
       " ['-shan(e)', 0.39, 0.43, 0.56, 0.36, 0.41, 0.41, -0.5],\n",
       " ['ayeyarwaddy', 0.66, 0.72, 0.79, 0.68, 0.7, 0.6, 15.2]]"
      ]
     },
     "execution_count": 48,
     "metadata": {},
     "output_type": "execute_result"
    }
   ],
   "source": [
    "final"
   ]
  },
  {
   "cell_type": "code",
   "execution_count": 49,
   "metadata": {
    "collapsed": false
   },
   "outputs": [],
   "source": [
    "names = [i[0] for i in final]\n",
    "poor = [i[1] for i in final]\n",
    "non_poor = [i[2] for i in final]\n",
    "urban = [i[3] for i in final]\n",
    "#total = [i[3] for i in final]\n",
    "rural = [i[4] for i in final]\n",
    "df = pd.DataFrame(columns=['Region'])\n",
    "df['Region'] = names\n",
    "df['Poor'] = poor\n",
    "df['Non_Poor'] = non_poor\n",
    "#df['Total'] = total    \n",
    "df['Urban'] = urban\n",
    "df['Rural'] = rural"
   ]
  },
  {
   "cell_type": "code",
   "execution_count": 50,
   "metadata": {
    "collapsed": false
   },
   "outputs": [
    {
     "data": {
      "text/html": [
       "<div>\n",
       "<table border=\"1\" class=\"dataframe\">\n",
       "  <thead>\n",
       "    <tr style=\"text-align: right;\">\n",
       "      <th></th>\n",
       "      <th>Region</th>\n",
       "      <th>Poor</th>\n",
       "      <th>Non_Poor</th>\n",
       "      <th>Urban</th>\n",
       "      <th>Rural</th>\n",
       "    </tr>\n",
       "  </thead>\n",
       "  <tbody>\n",
       "    <tr>\n",
       "      <th>0</th>\n",
       "      <td>kachin</td>\n",
       "      <td>0.75</td>\n",
       "      <td>0.81</td>\n",
       "      <td>0.95</td>\n",
       "      <td>0.74</td>\n",
       "    </tr>\n",
       "    <tr>\n",
       "      <th>1</th>\n",
       "      <td>kayah</td>\n",
       "      <td>0.61</td>\n",
       "      <td>0.53</td>\n",
       "      <td>0.65</td>\n",
       "      <td>0.47</td>\n",
       "    </tr>\n",
       "    <tr>\n",
       "      <th>2</th>\n",
       "      <td>kayin</td>\n",
       "      <td>0.56</td>\n",
       "      <td>0.69</td>\n",
       "      <td>0.66</td>\n",
       "      <td>0.66</td>\n",
       "    </tr>\n",
       "    <tr>\n",
       "      <th>3</th>\n",
       "      <td>chin</td>\n",
       "      <td>0.52</td>\n",
       "      <td>0.64</td>\n",
       "      <td>0.86</td>\n",
       "      <td>0.47</td>\n",
       "    </tr>\n",
       "    <tr>\n",
       "      <th>4</th>\n",
       "      <td>sagaing</td>\n",
       "      <td>0.52</td>\n",
       "      <td>0.57</td>\n",
       "      <td>0.73</td>\n",
       "      <td>0.54</td>\n",
       "    </tr>\n",
       "    <tr>\n",
       "      <th>5</th>\n",
       "      <td>tanintharyi</td>\n",
       "      <td>0.73</td>\n",
       "      <td>0.77</td>\n",
       "      <td>0.89</td>\n",
       "      <td>0.72</td>\n",
       "    </tr>\n",
       "    <tr>\n",
       "      <th>6</th>\n",
       "      <td>bago</td>\n",
       "      <td>0.55</td>\n",
       "      <td>0.62</td>\n",
       "      <td>0.80</td>\n",
       "      <td>0.58</td>\n",
       "    </tr>\n",
       "    <tr>\n",
       "      <th>7</th>\n",
       "      <td>-bago(e)</td>\n",
       "      <td>0.58</td>\n",
       "      <td>0.73</td>\n",
       "      <td>0.83</td>\n",
       "      <td>0.68</td>\n",
       "    </tr>\n",
       "    <tr>\n",
       "      <th>8</th>\n",
       "      <td>-bago(w)</td>\n",
       "      <td>0.50</td>\n",
       "      <td>0.50</td>\n",
       "      <td>0.75</td>\n",
       "      <td>0.47</td>\n",
       "    </tr>\n",
       "    <tr>\n",
       "      <th>9</th>\n",
       "      <td>magwe</td>\n",
       "      <td>0.46</td>\n",
       "      <td>0.49</td>\n",
       "      <td>0.79</td>\n",
       "      <td>0.46</td>\n",
       "    </tr>\n",
       "    <tr>\n",
       "      <th>10</th>\n",
       "      <td>mandalay</td>\n",
       "      <td>0.50</td>\n",
       "      <td>0.66</td>\n",
       "      <td>0.83</td>\n",
       "      <td>0.54</td>\n",
       "    </tr>\n",
       "    <tr>\n",
       "      <th>11</th>\n",
       "      <td>mon</td>\n",
       "      <td>0.68</td>\n",
       "      <td>0.76</td>\n",
       "      <td>0.79</td>\n",
       "      <td>0.73</td>\n",
       "    </tr>\n",
       "    <tr>\n",
       "      <th>12</th>\n",
       "      <td>rakhine</td>\n",
       "      <td>1.17</td>\n",
       "      <td>1.03</td>\n",
       "      <td>1.08</td>\n",
       "      <td>1.09</td>\n",
       "    </tr>\n",
       "    <tr>\n",
       "      <th>13</th>\n",
       "      <td>yangon</td>\n",
       "      <td>0.89</td>\n",
       "      <td>0.96</td>\n",
       "      <td>1.01</td>\n",
       "      <td>0.78</td>\n",
       "    </tr>\n",
       "    <tr>\n",
       "      <th>14</th>\n",
       "      <td>shan</td>\n",
       "      <td>0.41</td>\n",
       "      <td>0.47</td>\n",
       "      <td>0.63</td>\n",
       "      <td>0.39</td>\n",
       "    </tr>\n",
       "    <tr>\n",
       "      <th>15</th>\n",
       "      <td>-shan(s)</td>\n",
       "      <td>0.47</td>\n",
       "      <td>0.47</td>\n",
       "      <td>0.59</td>\n",
       "      <td>0.43</td>\n",
       "    </tr>\n",
       "    <tr>\n",
       "      <th>16</th>\n",
       "      <td>-shan(n)</td>\n",
       "      <td>0.38</td>\n",
       "      <td>0.47</td>\n",
       "      <td>0.73</td>\n",
       "      <td>0.37</td>\n",
       "    </tr>\n",
       "    <tr>\n",
       "      <th>17</th>\n",
       "      <td>-shan(e)</td>\n",
       "      <td>0.39</td>\n",
       "      <td>0.43</td>\n",
       "      <td>0.56</td>\n",
       "      <td>0.36</td>\n",
       "    </tr>\n",
       "    <tr>\n",
       "      <th>18</th>\n",
       "      <td>ayeyarwaddy</td>\n",
       "      <td>0.66</td>\n",
       "      <td>0.72</td>\n",
       "      <td>0.79</td>\n",
       "      <td>0.68</td>\n",
       "    </tr>\n",
       "  </tbody>\n",
       "</table>\n",
       "</div>"
      ],
      "text/plain": [
       "         Region  Poor  Non_Poor  Urban  Rural\n",
       "0        kachin  0.75      0.81   0.95   0.74\n",
       "1         kayah  0.61      0.53   0.65   0.47\n",
       "2         kayin  0.56      0.69   0.66   0.66\n",
       "3          chin  0.52      0.64   0.86   0.47\n",
       "4       sagaing  0.52      0.57   0.73   0.54\n",
       "5   tanintharyi  0.73      0.77   0.89   0.72\n",
       "6          bago  0.55      0.62   0.80   0.58\n",
       "7      -bago(e)  0.58      0.73   0.83   0.68\n",
       "8      -bago(w)  0.50      0.50   0.75   0.47\n",
       "9         magwe  0.46      0.49   0.79   0.46\n",
       "10     mandalay  0.50      0.66   0.83   0.54\n",
       "11          mon  0.68      0.76   0.79   0.73\n",
       "12      rakhine  1.17      1.03   1.08   1.09\n",
       "13       yangon  0.89      0.96   1.01   0.78\n",
       "14         shan  0.41      0.47   0.63   0.39\n",
       "15     -shan(s)  0.47      0.47   0.59   0.43\n",
       "16     -shan(n)  0.38      0.47   0.73   0.37\n",
       "17     -shan(e)  0.39      0.43   0.56   0.36\n",
       "18  ayeyarwaddy  0.66      0.72   0.79   0.68"
      ]
     },
     "execution_count": 50,
     "metadata": {},
     "output_type": "execute_result"
    }
   ],
   "source": [
    "df"
   ]
  },
  {
   "cell_type": "code",
   "execution_count": 51,
   "metadata": {
    "collapsed": false
   },
   "outputs": [],
   "source": [
    "df.to_csv('economic_dependency_ratio.csv')"
   ]
  },
  {
   "cell_type": "code",
   "execution_count": null,
   "metadata": {
    "collapsed": true
   },
   "outputs": [],
   "source": [
    "#http://stackoverflow.com/questions/490195/split-a-multi-page-pdf-file-into-multiple-pdf-files-with-python"
   ]
  }
 ],
 "metadata": {
  "anaconda-cloud": {},
  "kernelspec": {
   "display_name": "Python [default]",
   "language": "python",
   "name": "python2"
  },
  "language_info": {
   "codemirror_mode": {
    "name": "ipython",
    "version": 2
   },
   "file_extension": ".py",
   "mimetype": "text/x-python",
   "name": "python",
   "nbconvert_exporter": "python",
   "pygments_lexer": "ipython2",
   "version": "2.7.12"
  }
 },
 "nbformat": 4,
 "nbformat_minor": 1
}
