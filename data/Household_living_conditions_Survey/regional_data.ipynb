{
 "cells": [
  {
   "cell_type": "code",
   "execution_count": 1,
   "metadata": {
    "collapsed": true
   },
   "outputs": [],
   "source": [
    "import numpy as np\n",
    "import pandas as pd\n",
    "import statsmodels.api as sm\n",
    "import matplotlib.pyplot as plt\n",
    "import json\n",
    "% matplotlib inline"
   ]
  },
  {
   "cell_type": "code",
   "execution_count": null,
   "metadata": {
    "collapsed": false
   },
   "outputs": [],
   "source": [
    "with open(\"stateandregionboundaries.geojson\") as json_data:\n",
    "    d = json.load(json_data)"
   ]
  },
  {
   "cell_type": "code",
   "execution_count": null,
   "metadata": {
    "collapsed": false
   },
   "outputs": [],
   "source": [
    "for index in range(len(d['features'])-1):\n",
    "    print d['features'][index]['properties']['st']"
   ]
  },
  {
   "cell_type": "code",
   "execution_count": null,
   "metadata": {
    "collapsed": false
   },
   "outputs": [],
   "source": [
    "#Pcode = [d['features'][index]['properties']['st_pcode'] for index in range(len(d['features'])-1)]\n",
    "#coordinates = [d['features'][i]['geometry']['coordinates'] for index in range(len(d['features'])-1)]"
   ]
  },
  {
   "cell_type": "code",
   "execution_count": null,
   "metadata": {
    "collapsed": true
   },
   "outputs": [],
   "source": [
    "df = pd.read_csv('Household_living_conditions.csv')"
   ]
  },
  {
   "cell_type": "code",
   "execution_count": null,
   "metadata": {
    "collapsed": false
   },
   "outputs": [],
   "source": [
    "df.head()"
   ]
  },
  {
   "cell_type": "code",
   "execution_count": null,
   "metadata": {
    "collapsed": false
   },
   "outputs": [],
   "source": [
    "import copy\n",
    "import numpy as np\n",
    "import pandas as pd\n",
    "import geopandas as gpd\n",
    "\n",
    "region_boundaries = gpd.read_file(\"stateandregionboundaries.geojson\")\n",
    "\n",
    "region = pd.DataFrame(region_boundaries[['cartodb_id', 'geometry', 'st', 'st_pcode']].values)\n",
    "region.columns = ['cartodb_id', 'geometry', 'st', 'st_pcode']\n",
    "\n",
    "region_data = pd.read_csv('Household_living_conditions.csv')\n",
    "\n",
    "df_all = pd.merge(left=region_boundaries, right=region_data, left_on='st_pcode', right_on='Pcode')\n",
    "# df_all.to_csv('region_data.csv')"
   ]
  },
  {
   "cell_type": "code",
   "execution_count": null,
   "metadata": {
    "collapsed": false
   },
   "outputs": [],
   "source": [
    "df_all = df_all.drop('Pcode', axis =1)"
   ]
  },
  {
   "cell_type": "code",
   "execution_count": null,
   "metadata": {
    "collapsed": false
   },
   "outputs": [],
   "source": [
    "df_all.to_csv('regional_data.csv', index = False)"
   ]
  },
  {
   "cell_type": "code",
   "execution_count": null,
   "metadata": {
    "collapsed": false
   },
   "outputs": [],
   "source": [
    "df_all.head()"
   ]
  },
  {
   "cell_type": "code",
   "execution_count": null,
   "metadata": {
    "collapsed": false
   },
   "outputs": [],
   "source": [
    "regional = pd.read_csv(\"regional_data.csv\")\n",
    "regional.head()"
   ]
  },
  {
   "cell_type": "code",
   "execution_count": 268,
   "metadata": {
    "collapsed": false
   },
   "outputs": [],
   "source": [
    "df = pd.read_csv('Household_living_conditions.csv')"
   ]
  },
  {
   "cell_type": "code",
   "execution_count": 472,
   "metadata": {
    "collapsed": false
   },
   "outputs": [
    {
     "data": {
      "text/html": [
       "<div>\n",
       "<table border=\"1\" class=\"dataframe\">\n",
       "  <thead>\n",
       "    <tr style=\"text-align: right;\">\n",
       "      <th></th>\n",
       "      <th>Region</th>\n",
       "      <th>access_to_credit_agriculture Poor</th>\n",
       "      <th>access_to_credit_agriculture Non_Poor</th>\n",
       "      <th>access_to_credit_Non-Agricultural_businesses Poor</th>\n",
       "      <th>access_to_credit_Non-Agricultural_businesses Non_Poor</th>\n",
       "      <th>access_to_credit_Non-Agricultural_businesses Urban</th>\n",
       "      <th>access_to_credit_Non-Agricultural_businesses Rural</th>\n",
       "      <th>access_to_electricity Poor</th>\n",
       "      <th>access_to_electricity Non_Poor</th>\n",
       "      <th>access_to_electricity Urban</th>\n",
       "      <th>...</th>\n",
       "      <th>Education Level of HouseHold Head post_secondary_school</th>\n",
       "      <th>Female Headed HouseHolds Poor</th>\n",
       "      <th>Female Headed HouseHolds Non_Poor</th>\n",
       "      <th>Landless Rate In Agriculture Poor</th>\n",
       "      <th>Landless Rate In Agriculture Non_Poor</th>\n",
       "      <th>Poverty Transition Matrix Chronic_Poor</th>\n",
       "      <th>Poverty Transition Matrix Non_Poor</th>\n",
       "      <th>Poverty Transition Matrix Descents</th>\n",
       "      <th>Poverty Transition Matrix Escapes</th>\n",
       "      <th>Pcode</th>\n",
       "    </tr>\n",
       "  </thead>\n",
       "  <tbody>\n",
       "    <tr>\n",
       "      <th>0</th>\n",
       "      <td>ayeyarwaddy</td>\n",
       "      <td>48.5</td>\n",
       "      <td>55.4</td>\n",
       "      <td>19.2</td>\n",
       "      <td>15.6</td>\n",
       "      <td>11.3</td>\n",
       "      <td>18.3</td>\n",
       "      <td>14.5</td>\n",
       "      <td>35.4</td>\n",
       "      <td>80.1</td>\n",
       "      <td>...</td>\n",
       "      <td>3.4</td>\n",
       "      <td>16.4</td>\n",
       "      <td>17.1</td>\n",
       "      <td>50.4</td>\n",
       "      <td>24.2</td>\n",
       "      <td>11.5</td>\n",
       "      <td>60.9</td>\n",
       "      <td>14.3</td>\n",
       "      <td>13.3</td>\n",
       "      <td>MMR017</td>\n",
       "    </tr>\n",
       "    <tr>\n",
       "      <th>1</th>\n",
       "      <td>bago</td>\n",
       "      <td>44.5</td>\n",
       "      <td>38.4</td>\n",
       "      <td>10.2</td>\n",
       "      <td>15.1</td>\n",
       "      <td>15.7</td>\n",
       "      <td>13.8</td>\n",
       "      <td>17.7</td>\n",
       "      <td>33.9</td>\n",
       "      <td>77.0</td>\n",
       "      <td>...</td>\n",
       "      <td>2.6</td>\n",
       "      <td>19.9</td>\n",
       "      <td>21.8</td>\n",
       "      <td>69.6</td>\n",
       "      <td>35.4</td>\n",
       "      <td>5.6</td>\n",
       "      <td>66.8</td>\n",
       "      <td>9.7</td>\n",
       "      <td>17.9</td>\n",
       "      <td>MMR111</td>\n",
       "    </tr>\n",
       "    <tr>\n",
       "      <th>2</th>\n",
       "      <td>chin</td>\n",
       "      <td>8.2</td>\n",
       "      <td>0.0</td>\n",
       "      <td>24.0</td>\n",
       "      <td>9.3</td>\n",
       "      <td>17.4</td>\n",
       "      <td>16.2</td>\n",
       "      <td>50.2</td>\n",
       "      <td>51.0</td>\n",
       "      <td>79.0</td>\n",
       "      <td>...</td>\n",
       "      <td>3.7</td>\n",
       "      <td>13.6</td>\n",
       "      <td>16.4</td>\n",
       "      <td>8.4</td>\n",
       "      <td>7.0</td>\n",
       "      <td>51.5</td>\n",
       "      <td>10.5</td>\n",
       "      <td>17.4</td>\n",
       "      <td>20.6</td>\n",
       "      <td>MMR004</td>\n",
       "    </tr>\n",
       "    <tr>\n",
       "      <th>3</th>\n",
       "      <td>kachin</td>\n",
       "      <td>28.5</td>\n",
       "      <td>24.4</td>\n",
       "      <td>9.2</td>\n",
       "      <td>8.7</td>\n",
       "      <td>7.2</td>\n",
       "      <td>10.0</td>\n",
       "      <td>28.2</td>\n",
       "      <td>62.0</td>\n",
       "      <td>77.4</td>\n",
       "      <td>...</td>\n",
       "      <td>4.1</td>\n",
       "      <td>27.9</td>\n",
       "      <td>24.0</td>\n",
       "      <td>21.4</td>\n",
       "      <td>15.0</td>\n",
       "      <td>12.5</td>\n",
       "      <td>55.1</td>\n",
       "      <td>8.9</td>\n",
       "      <td>23.6</td>\n",
       "      <td>MMR001</td>\n",
       "    </tr>\n",
       "    <tr>\n",
       "      <th>4</th>\n",
       "      <td>kayah</td>\n",
       "      <td>52.4</td>\n",
       "      <td>43.6</td>\n",
       "      <td>59.4</td>\n",
       "      <td>9.4</td>\n",
       "      <td>12.8</td>\n",
       "      <td>8.2</td>\n",
       "      <td>43.6</td>\n",
       "      <td>79.6</td>\n",
       "      <td>100.0</td>\n",
       "      <td>...</td>\n",
       "      <td>3.6</td>\n",
       "      <td>23.2</td>\n",
       "      <td>17.8</td>\n",
       "      <td>24.5</td>\n",
       "      <td>10.8</td>\n",
       "      <td>3.7</td>\n",
       "      <td>71.7</td>\n",
       "      <td>4.9</td>\n",
       "      <td>19.7</td>\n",
       "      <td>MMR002</td>\n",
       "    </tr>\n",
       "  </tbody>\n",
       "</table>\n",
       "<p>5 rows × 49 columns</p>\n",
       "</div>"
      ],
      "text/plain": [
       "        Region   access_to_credit_agriculture Poor  \\\n",
       "0  ayeyarwaddy                                48.5   \n",
       "1         bago                                44.5   \n",
       "2         chin                                 8.2   \n",
       "3       kachin                                28.5   \n",
       "4        kayah                                52.4   \n",
       "\n",
       "   access_to_credit_agriculture Non_Poor  \\\n",
       "0                                   55.4   \n",
       "1                                   38.4   \n",
       "2                                    0.0   \n",
       "3                                   24.4   \n",
       "4                                   43.6   \n",
       "\n",
       "    access_to_credit_Non-Agricultural_businesses Poor  \\\n",
       "0                                               19.2    \n",
       "1                                               10.2    \n",
       "2                                               24.0    \n",
       "3                                                9.2    \n",
       "4                                               59.4    \n",
       "\n",
       "   access_to_credit_Non-Agricultural_businesses Non_Poor  \\\n",
       "0                                               15.6       \n",
       "1                                               15.1       \n",
       "2                                                9.3       \n",
       "3                                                8.7       \n",
       "4                                                9.4       \n",
       "\n",
       "   access_to_credit_Non-Agricultural_businesses Urban  \\\n",
       "0                                               11.3    \n",
       "1                                               15.7    \n",
       "2                                               17.4    \n",
       "3                                                7.2    \n",
       "4                                               12.8    \n",
       "\n",
       "   access_to_credit_Non-Agricultural_businesses Rural  \\\n",
       "0                                               18.3    \n",
       "1                                               13.8    \n",
       "2                                               16.2    \n",
       "3                                               10.0    \n",
       "4                                                8.2    \n",
       "\n",
       "   access_to_electricity Poor  access_to_electricity Non_Poor  \\\n",
       "0                        14.5                            35.4   \n",
       "1                        17.7                            33.9   \n",
       "2                        50.2                            51.0   \n",
       "3                        28.2                            62.0   \n",
       "4                        43.6                            79.6   \n",
       "\n",
       "   access_to_electricity Urban   ...    \\\n",
       "0                         80.1   ...     \n",
       "1                         77.0   ...     \n",
       "2                         79.0   ...     \n",
       "3                         77.4   ...     \n",
       "4                        100.0   ...     \n",
       "\n",
       "   Education Level of HouseHold Head post_secondary_school  \\\n",
       "0                                                3.4         \n",
       "1                                                2.6         \n",
       "2                                                3.7         \n",
       "3                                                4.1         \n",
       "4                                                3.6         \n",
       "\n",
       "   Female Headed HouseHolds Poor  Female Headed HouseHolds Non_Poor  \\\n",
       "0                           16.4                               17.1   \n",
       "1                           19.9                               21.8   \n",
       "2                           13.6                               16.4   \n",
       "3                           27.9                               24.0   \n",
       "4                           23.2                               17.8   \n",
       "\n",
       "   Landless Rate In Agriculture Poor  Landless Rate In Agriculture Non_Poor  \\\n",
       "0                               50.4                                   24.2   \n",
       "1                               69.6                                   35.4   \n",
       "2                                8.4                                    7.0   \n",
       "3                               21.4                                   15.0   \n",
       "4                               24.5                                   10.8   \n",
       "\n",
       "   Poverty Transition Matrix Chronic_Poor  \\\n",
       "0                                    11.5   \n",
       "1                                     5.6   \n",
       "2                                    51.5   \n",
       "3                                    12.5   \n",
       "4                                     3.7   \n",
       "\n",
       "    Poverty Transition Matrix Non_Poor  Poverty Transition Matrix Descents  \\\n",
       "0                                 60.9                                14.3   \n",
       "1                                 66.8                                 9.7   \n",
       "2                                 10.5                                17.4   \n",
       "3                                 55.1                                 8.9   \n",
       "4                                 71.7                                 4.9   \n",
       "\n",
       "   Poverty Transition Matrix Escapes   Pcode  \n",
       "0                               13.3  MMR017  \n",
       "1                               17.9  MMR111  \n",
       "2                               20.6  MMR004  \n",
       "3                               23.6  MMR001  \n",
       "4                               19.7  MMR002  \n",
       "\n",
       "[5 rows x 49 columns]"
      ]
     },
     "execution_count": 472,
     "metadata": {},
     "output_type": "execute_result"
    }
   ],
   "source": [
    "df.head()[:15]"
   ]
  },
  {
   "cell_type": "code",
   "execution_count": 334,
   "metadata": {
    "collapsed": false
   },
   "outputs": [],
   "source": [
    "df1 = df[['access_to_credit_Non-Agricultural_businesses Rural',\n",
    "          'access_to_credit_Non-Agricultural_businesses Urban',\n",
    "          ' access_to_credit_agriculture Poor',\n",
    "          'access_to_credit_agriculture Non_Poor',\n",
    "          ' access_to_credit_Non-Agricultural_businesses Poor',\n",
    "          'access_to_credit_Non-Agricultural_businesses Non_Poor']]"
   ]
  },
  {
   "cell_type": "code",
   "execution_count": 335,
   "metadata": {
    "collapsed": false
   },
   "outputs": [
    {
     "data": {
      "text/html": [
       "<div>\n",
       "<table border=\"1\" class=\"dataframe\">\n",
       "  <thead>\n",
       "    <tr style=\"text-align: right;\">\n",
       "      <th></th>\n",
       "      <th>access_to_credit_Non-Agricultural_businesses Rural</th>\n",
       "      <th>access_to_credit_Non-Agricultural_businesses Urban</th>\n",
       "      <th>access_to_credit_agriculture Poor</th>\n",
       "      <th>access_to_credit_agriculture Non_Poor</th>\n",
       "      <th>access_to_credit_Non-Agricultural_businesses Poor</th>\n",
       "      <th>access_to_credit_Non-Agricultural_businesses Non_Poor</th>\n",
       "    </tr>\n",
       "  </thead>\n",
       "  <tbody>\n",
       "    <tr>\n",
       "      <th>0</th>\n",
       "      <td>18.3</td>\n",
       "      <td>11.3</td>\n",
       "      <td>48.5</td>\n",
       "      <td>55.4</td>\n",
       "      <td>19.2</td>\n",
       "      <td>15.6</td>\n",
       "    </tr>\n",
       "    <tr>\n",
       "      <th>1</th>\n",
       "      <td>13.8</td>\n",
       "      <td>15.7</td>\n",
       "      <td>44.5</td>\n",
       "      <td>38.4</td>\n",
       "      <td>10.2</td>\n",
       "      <td>15.1</td>\n",
       "    </tr>\n",
       "    <tr>\n",
       "      <th>2</th>\n",
       "      <td>16.2</td>\n",
       "      <td>17.4</td>\n",
       "      <td>8.2</td>\n",
       "      <td>0.0</td>\n",
       "      <td>24.0</td>\n",
       "      <td>9.3</td>\n",
       "    </tr>\n",
       "    <tr>\n",
       "      <th>3</th>\n",
       "      <td>10.0</td>\n",
       "      <td>7.2</td>\n",
       "      <td>28.5</td>\n",
       "      <td>24.4</td>\n",
       "      <td>9.2</td>\n",
       "      <td>8.7</td>\n",
       "    </tr>\n",
       "    <tr>\n",
       "      <th>4</th>\n",
       "      <td>8.2</td>\n",
       "      <td>12.8</td>\n",
       "      <td>52.4</td>\n",
       "      <td>43.6</td>\n",
       "      <td>59.4</td>\n",
       "      <td>9.4</td>\n",
       "    </tr>\n",
       "  </tbody>\n",
       "</table>\n",
       "</div>"
      ],
      "text/plain": [
       "   access_to_credit_Non-Agricultural_businesses Rural  \\\n",
       "0                                               18.3    \n",
       "1                                               13.8    \n",
       "2                                               16.2    \n",
       "3                                               10.0    \n",
       "4                                                8.2    \n",
       "\n",
       "   access_to_credit_Non-Agricultural_businesses Urban  \\\n",
       "0                                               11.3    \n",
       "1                                               15.7    \n",
       "2                                               17.4    \n",
       "3                                                7.2    \n",
       "4                                               12.8    \n",
       "\n",
       "    access_to_credit_agriculture Poor  access_to_credit_agriculture Non_Poor  \\\n",
       "0                                48.5                                   55.4   \n",
       "1                                44.5                                   38.4   \n",
       "2                                 8.2                                    0.0   \n",
       "3                                28.5                                   24.4   \n",
       "4                                52.4                                   43.6   \n",
       "\n",
       "    access_to_credit_Non-Agricultural_businesses Poor  \\\n",
       "0                                               19.2    \n",
       "1                                               10.2    \n",
       "2                                               24.0    \n",
       "3                                                9.2    \n",
       "4                                               59.4    \n",
       "\n",
       "   access_to_credit_Non-Agricultural_businesses Non_Poor  \n",
       "0                                               15.6      \n",
       "1                                               15.1      \n",
       "2                                                9.3      \n",
       "3                                                8.7      \n",
       "4                                                9.4      "
      ]
     },
     "execution_count": 335,
     "metadata": {},
     "output_type": "execute_result"
    }
   ],
   "source": [
    "df1.head()"
   ]
  },
  {
   "cell_type": "raw",
   "metadata": {},
   "source": [
    "access_to_electricity Non_Poor\taccess_to_electricity Urban"
   ]
  },
  {
   "cell_type": "code",
   "execution_count": 336,
   "metadata": {
    "collapsed": false
   },
   "outputs": [],
   "source": [
    "# from sklearn import decomposition\n",
    "\n",
    "# pca = decomposition.PCA(n_components=3)\n",
    "# pca.fit(credit)\n",
    "# credit = pca.transform(credit)"
   ]
  },
  {
   "cell_type": "code",
   "execution_count": 337,
   "metadata": {
    "collapsed": false
   },
   "outputs": [],
   "source": [
    "# credit"
   ]
  },
  {
   "cell_type": "code",
   "execution_count": 372,
   "metadata": {
    "collapsed": false
   },
   "outputs": [],
   "source": [
    "#Load dependencies\n",
    "import pandas as pd\n",
    "import numpy as np\n",
    "from sklearn.preprocessing import StandardScaler\n",
    "from matplotlib import*\n",
    "import matplotlib.pyplot as plt\n",
    "from matplotlib.cm import register_cmap\n",
    "from scipy import stats\n",
    "#from wpca import PCA\n",
    "from sklearn.decomposition import PCA as sklearnPCA\n",
    "\n",
    "X_std = StandardScaler().fit_transform(df1)"
   ]
  },
  {
   "cell_type": "code",
   "execution_count": 374,
   "metadata": {
    "collapsed": false
   },
   "outputs": [],
   "source": [
    "#X_std = df.std()"
   ]
  },
  {
   "cell_type": "code",
   "execution_count": 381,
   "metadata": {
    "collapsed": false
   },
   "outputs": [
    {
     "name": "stdout",
     "output_type": "stream",
     "text": [
      "Covariance matrix \n",
      "[[  355.035        256.895       -121.979        168.466        265.394\n",
      "    -38.061        232.595         13.114         90.584        220.915\n",
      "     96.388        -42.916        625.446        248.096     ]\n",
      " [  256.895        212.715        -95.335        132.372        160.774\n",
      "    -64.293        179.323          3.524         60.544        169.257\n",
      "     69.824        -24.74         478.3          182.044     ]\n",
      " [ -121.979        -95.335         70.98566667   -55.75533333\n",
      "     -5.46733333    52.57233333   -69.177         27.94466667\n",
      "    -21.80133333   -93.07433333   -40.75333333     1.97333333\n",
      "   -229.80266667   -78.012     ]\n",
      " [  168.466        132.372        -55.75533333    85.82266667\n",
      "    126.91866667   -22.89666667   119.428          8.96066667\n",
      "     42.15466667   104.51266667    43.75066667   -18.74466667\n",
      "    302.19133333   120.94      ]\n",
      " [  265.394        160.774         -5.46733333   126.91866667\n",
      "    548.18266667   107.90733333   203.286        133.27866667\n",
      "    101.14666667   104.18066667    45.78266667   -81.20666667\n",
      "    426.23733333   202.4       ]\n",
      " [  -38.061        -64.293         52.57233333   -22.89666667\n",
      "    107.90733333   107.43766667   -13.967         42.08133333\n",
      "      5.08133333   -59.95366667   -22.37266667   -12.20933333\n",
      "   -124.37333333   -17.984     ]\n",
      " [  232.595        179.323        -69.177        119.428        203.286\n",
      "    -13.967        169.843         22.022         60.776        137.321\n",
      "     57.446        -28.728        408.804        169.464     ]\n",
      " [   13.114          3.524         27.94466667     8.96066667\n",
      "    133.27866667    42.08133333    22.022         45.74266667\n",
      "     15.10266667   -12.72733333    -6.29333333   -19.02066667\n",
      "     12.66733333    16.54      ]\n",
      " [   90.584         60.544        -21.80133333    42.15466667\n",
      "    101.14666667     5.08133333    60.776         15.10266667\n",
      "     26.73066667    50.29066667    22.31066667   -16.24266667\n",
      "    153.93333333    64.776     ]\n",
      " [  220.915        169.257        -93.07433333   104.51266667\n",
      "    104.18066667   -59.95366667   137.321        -12.72733333\n",
      "     50.29066667   151.58966667    65.56866667   -19.25266667\n",
      "    406.30933333   150.        ]\n",
      " [   96.388         69.824        -40.75333333    43.75066667\n",
      "     45.78266667   -22.37266667    57.446         -6.29333333\n",
      "     22.31066667    65.56866667    29.03066667    -8.83466667\n",
      "    173.89133333    64.684     ]\n",
      " [  -42.916        -24.74           1.97333333   -18.74466667\n",
      "    -81.20666667   -12.20933333   -28.728        -19.02066667\n",
      "    -16.24266667   -19.25266667    -8.83466667    13.57066667\n",
      "    -71.13533333   -31.404     ]\n",
      " [  625.446        478.3         -229.80266667   302.19133333\n",
      "    426.23733333  -124.37333333   408.804         12.66733333\n",
      "    153.93333333   406.30933333   173.89133333   -71.13533333\n",
      "   1140.85866667   434.116     ]\n",
      " [  248.096        182.044        -78.012        120.94         202.4\n",
      "    -17.984        169.464         16.54          64.776        150.\n",
      "     64.684        -31.404        434.116        176.656     ]]\n"
     ]
    }
   ],
   "source": [
    "mean_vec = np.mean(X_std, axis=0)\n",
    "cov_mat = np.cov(df1)\n",
    "print('Covariance matrix \\n%s' %cov_mat)"
   ]
  },
  {
   "cell_type": "code",
   "execution_count": 382,
   "metadata": {
    "collapsed": false
   },
   "outputs": [
    {
     "data": {
      "text/plain": [
       "(14, 14)"
      ]
     },
     "execution_count": 382,
     "metadata": {},
     "output_type": "execute_result"
    }
   ],
   "source": [
    "cov_mat.shape"
   ]
  },
  {
   "cell_type": "code",
   "execution_count": 383,
   "metadata": {
    "collapsed": false
   },
   "outputs": [
    {
     "name": "stdout",
     "output_type": "stream",
     "text": [
      "NumPy covariance matrix: \n",
      "[[ 1.07692308  0.40039934 -0.36157771 -0.42353622  0.28861594  0.84479117]\n",
      " [ 0.40039934  1.07692308 -0.05545583 -0.20128533  0.32599091  0.63882152]\n",
      " [-0.36157771 -0.05545583  1.07692308  1.0219668   0.10134191 -0.03544794]\n",
      " [-0.42353622 -0.20128533  1.0219668   1.07692308 -0.10653533 -0.08946338]\n",
      " [ 0.28861594  0.32599091  0.10134191 -0.10653533  1.07692308  0.14718756]\n",
      " [ 0.84479117  0.63882152 -0.03544794 -0.08946338  0.14718756  1.07692308]]\n"
     ]
    }
   ],
   "source": [
    "print('NumPy covariance matrix: \\n%s' %np.cov(X_std.T))"
   ]
  },
  {
   "cell_type": "code",
   "execution_count": 391,
   "metadata": {
    "collapsed": false
   },
   "outputs": [
    {
     "name": "stdout",
     "output_type": "stream",
     "text": [
      "Eigenvectors \n",
      "[[  3.70715747e-01+0.j          -2.86462115e-02+0.j           3.36003049e-01+0.j\n",
      "   -1.56618276e-01+0.j          -1.45875952e-01+0.j\n",
      "    1.01307895e-01-0.18200809j   1.01307895e-01+0.18200809j\n",
      "    4.35180295e-02+0.j          -1.10483088e-01+0.j           9.86921617e-03+0.j\n",
      "    3.95535342e-02+0.j           7.28464566e-02-0.04170429j\n",
      "    7.28464566e-02+0.04170429j   8.11715819e-02+0.j        ]\n",
      " [  2.77862820e-01+0.j          -1.22924493e-01+0.j          -2.02637771e-01+0.j\n",
      "    4.78803188e-01+0.j           9.72720089e-02+0.j\n",
      "    1.81516598e-01+0.31459044j   1.81516598e-01-0.31459044j\n",
      "    1.05030285e-01+0.j           2.25803165e-01+0.j          -4.01667137e-02+0.j\n",
      "   -1.64939112e-02+0.j          -5.44247288e-02-0.05513622j\n",
      "   -5.44247288e-02+0.05513622j  -3.27266933e-03+0.j        ]\n",
      " [ -1.23106669e-01+0.j           2.20126049e-01+0.j          -1.52867125e-01+0.j\n",
      "    2.74682019e-01+0.j          -7.94280773e-01+0.j\n",
      "   -1.74899281e-01-0.0635929j   -1.74899281e-01+0.0635929j\n",
      "   -5.13016507e-03+0.j          -1.55813543e-01+0.j          -2.22733303e-01+0.j\n",
      "   -6.21716069e-04+0.j           1.40855151e-01-0.14609765j\n",
      "    1.40855151e-01+0.14609765j   3.29975080e-01+0.j        ]\n",
      " [  1.80077636e-01+0.j          -1.71266061e-02+0.j           4.68337651e-02+0.j\n",
      "    3.27523654e-01+0.j           3.33020517e-02+0.j\n",
      "   -1.52096120e-01-0.1303527j   -1.52096120e-01+0.1303527j\n",
      "    2.47628672e-01+0.j          -1.09568003e-01+0.j          -2.94078028e-01+0.j\n",
      "    3.55179967e-02+0.j           2.18314267e-01+0.2348171j\n",
      "    2.18314267e-01-0.2348171j    6.06848315e-02+0.j        ]\n",
      " [  2.98895985e-01+0.j           7.85567052e-01+0.j          -2.66197830e-01+0.j\n",
      "   -1.87993586e-01+0.j           2.65688167e-01+0.j\n",
      "   -2.96635222e-02-0.02729291j  -2.96635222e-02+0.02729291j\n",
      "    1.17576764e-01+0.j          -1.95236047e-02+0.j          -9.42517664e-02+0.j\n",
      "   -7.37109733e-02+0.j          -7.37040447e-02-0.07813998j\n",
      "   -7.37040447e-02+0.07813998j   5.44879480e-02+0.j        ]\n",
      " [ -4.74365533e-02+0.j           3.81280634e-01+0.j           7.40615165e-01+0.j\n",
      "    3.65025156e-02+0.j           7.10710182e-03+0.j\n",
      "   -1.19370962e-01+0.17865373j  -1.19370962e-01-0.17865373j\n",
      "   -9.90991078e-02+0.j          -3.95906987e-02+0.j          -1.55501727e-01+0.j\n",
      "    3.14031093e-03+0.j           1.49281109e-01-0.02075366j\n",
      "    1.49281109e-01+0.02075366j   1.24173343e-01+0.j        ]\n",
      " [  2.48942758e-01+0.j           4.93665700e-02+0.j           1.53674545e-01+0.j\n",
      "    5.67236341e-01+0.j           1.76282575e-01+0.j\n",
      "   -2.14880852e-01-0.18747443j  -2.14880852e-01+0.18747443j\n",
      "    1.53561941e-01+0.j          -2.46042179e-01+0.j           4.66121771e-01+0.j\n",
      "   -1.14892357e-01+0.j           8.13578051e-02-0.05331138j\n",
      "    8.13578051e-02+0.05331138j   1.10619546e-01+0.j        ]\n",
      " [  2.36673811e-02+0.j           2.79544179e-01+0.j          -2.71596157e-01+0.j\n",
      "    1.22419978e-01+0.j          -1.17683674e-01+0.j\n",
      "    4.13193281e-02+0.00664841j   4.13193281e-02-0.00664841j\n",
      "   -7.08013795e-03+0.j          -2.98730514e-02+0.j           1.99357897e-01+0.j\n",
      "    4.61602885e-01+0.j           2.15343347e-01+0.15508179j\n",
      "    2.15343347e-01-0.15508179j  -6.75829356e-02+0.j        ]\n",
      " [  9.57102742e-02+0.j           7.28550743e-02+0.j           6.67723507e-02+0.j\n",
      "   -9.30643116e-02+0.j          -2.15262702e-01+0.j\n",
      "    1.77671287e-01+0.07583918j   1.77671287e-01-0.07583918j\n",
      "   -1.46110809e-02+0.j           1.72156517e-01+0.j           1.45051814e-01+0.j\n",
      "    2.87267191e-01+0.j          -1.34874300e-02+0.34567803j\n",
      "   -1.34874300e-02-0.34567803j   3.22280631e-02+0.j        ]\n",
      " [  2.30256055e-01+0.j          -1.74555041e-01+0.j           5.81761665e-02+0.j\n",
      "   -2.07072132e-01+0.j          -1.33849361e-01+0.j          -5.77821209e-01+0.j\n",
      "   -5.77821209e-01-0.j           6.45522497e-01+0.j          -6.46482615e-01+0.j\n",
      "   -1.50263527e-01+0.j          -1.27696001e-01+0.j\n",
      "    2.67699775e-03-0.16272549j   2.67699775e-03+0.16272549j\n",
      "    1.71830727e-01+0.j        ]\n",
      " [  9.86355275e-02+0.j          -7.09721713e-02+0.j           9.86724787e-02+0.j\n",
      "   -1.98848645e-01+0.j          -9.67434562e-02+0.j\n",
      "    1.82566092e-01+0.03248281j   1.82566092e-01-0.03248281j\n",
      "    4.10732128e-01+0.j           4.15618002e-01+0.j           4.89062767e-01+0.j\n",
      "    5.08565409e-01+0.j           3.92444766e-01+0.05565256j\n",
      "    3.92444766e-01-0.05565256j   3.12791963e-01+0.j        ]\n",
      " [ -4.76328776e-02+0.j          -1.08021604e-01+0.j           8.20259714e-02+0.j\n",
      "    1.70664876e-01+0.j           2.94867999e-01+0.j\n",
      "   -4.17016034e-02-0.08227672j  -4.17016034e-02+0.08227672j\n",
      "   -1.69076270e-01+0.j          -4.88479799e-02+0.j          -5.04158254e-01+0.j\n",
      "    6.37215656e-01+0.j           2.13233793e-01-0.06183141j\n",
      "    2.13233793e-01+0.06183141j   5.09144445e-01+0.j        ]\n",
      " [  6.64371186e-01+0.j          -1.98076946e-01+0.j          -1.51025277e-01+0.j\n",
      "   -2.14305976e-01+0.j          -9.35744581e-02+0.j\n",
      "   -6.81205842e-02+0.03930171j  -6.81205842e-02-0.03930171j\n",
      "   -4.52345800e-01+0.j           1.95782118e-02+0.j          -1.86343216e-01+0.j\n",
      "    2.17252408e-02+0.j           1.46676240e-01-0.00236125j\n",
      "    1.46676240e-01+0.00236125j   1.32609897e-01+0.j        ]\n",
      " [  2.60944369e-01+0.j           2.30245009e-02+0.j           2.37927540e-01+0.j\n",
      "    1.54739652e-01+0.j          -2.28878545e-01+0.j\n",
      "    4.40281264e-01+0.07035268j   4.40281264e-01-0.07035268j\n",
      "   -2.44202886e-01+0.j           4.62666478e-01+0.j           2.04714261e-02+0.j\n",
      "   -3.46070296e-02+0.j          -5.95605449e-01+0.j          -5.95605449e-01-0.j\n",
      "   -6.63645582e-01+0.j        ]]\n",
      "\n",
      "Eigenvalues \n",
      "[  2.53307773e+03 +0.00000000e+00j   5.13344058e+02 +0.00000000e+00j\n",
      "   4.93473875e+01 +0.00000000e+00j   3.18256839e+01 +0.00000000e+00j\n",
      "   6.60580351e+00 +0.00000000e+00j   3.91019488e-14 +7.00986946e-14j\n",
      "   3.91019488e-14 -7.00986946e-14j  -6.45136171e-14 +0.00000000e+00j\n",
      "   4.81438791e-14 +0.00000000e+00j  -2.54003772e-14 +0.00000000e+00j\n",
      "   4.10569521e-15 +0.00000000e+00j  -3.78095088e-15 +7.60823224e-15j\n",
      "  -3.78095088e-15 -7.60823224e-15j  -8.39889233e-15 +0.00000000e+00j]\n"
     ]
    }
   ],
   "source": [
    "#Perform eigendecomposition on covariance matrix\n",
    "#cov_mat = np.cov(X_std.T)\n",
    "eig_vals, eig_vecs = np.linalg.eig(cov_mat.T)\n",
    "print('Eigenvectors \\n%s' %eig_vecs)\n",
    "print('\\nEigenvalues \\n%s' %eig_vals)"
   ]
  },
  {
   "cell_type": "code",
   "execution_count": 392,
   "metadata": {
    "collapsed": false
   },
   "outputs": [
    {
     "data": {
      "text/plain": [
       "(14,)"
      ]
     },
     "execution_count": 392,
     "metadata": {},
     "output_type": "execute_result"
    }
   ],
   "source": [
    "eig_vals.shape"
   ]
  },
  {
   "cell_type": "code",
   "execution_count": 393,
   "metadata": {
    "collapsed": false
   },
   "outputs": [
    {
     "data": {
      "text/plain": [
       "0     ayeyarwaddy\n",
       "1            bago\n",
       "2            chin\n",
       "3          kachin\n",
       "4           kayah\n",
       "5           kayin\n",
       "6          magway\n",
       "7             mon\n",
       "8         rakhine\n",
       "9         sagaing\n",
       "10           shan\n",
       "11    tanintharyi\n",
       "12         yangon\n",
       "13       mandalay\n",
       "Name: Region, dtype: object"
      ]
     },
     "execution_count": 393,
     "metadata": {},
     "output_type": "execute_result"
    }
   ],
   "source": [
    "df['Region']"
   ]
  },
  {
   "cell_type": "code",
   "execution_count": 394,
   "metadata": {
    "collapsed": false
   },
   "outputs": [
    {
     "name": "stderr",
     "output_type": "stream",
     "text": [
      "/anaconda/lib/python2.7/site-packages/ipykernel/__main__.py:1: ComplexWarning: Casting complex values to real discards the imaginary part\n",
      "  if __name__ == '__main__':\n"
     ]
    }
   ],
   "source": [
    "names = [[float(i),j] for i,j in zip(eig_vals,df['Region'])]"
   ]
  },
  {
   "cell_type": "code",
   "execution_count": 395,
   "metadata": {
    "collapsed": false
   },
   "outputs": [
    {
     "name": "stdout",
     "output_type": "stream",
     "text": [
      "2533.07773357 ayeyarwaddy\n",
      "513.344058125 bago\n",
      "49.3473875312 chin\n",
      "31.8256839363 kachin\n",
      "6.60580350872 kayah\n",
      "4.8143879146e-14 rakhine\n",
      "3.9101948761e-14 kayin\n",
      "3.9101948761e-14 magway\n",
      "4.10569520924e-15 shan\n",
      "-3.78095088323e-15 tanintharyi\n",
      "-3.78095088323e-15 yangon\n",
      "-8.39889232953e-15 mandalay\n",
      "-2.54003771588e-14 sagaing\n",
      "-6.45136171234e-14 mon\n"
     ]
    }
   ],
   "source": [
    "names_sorted = sorted( names, key =lambda x : x[0],reverse=True)\n",
    "for name , n  in zip(names_sorted,df['Region']):\n",
    "    print name[0] , name[1]"
   ]
  },
  {
   "cell_type": "code",
   "execution_count": 371,
   "metadata": {
    "collapsed": false
   },
   "outputs": [
    {
     "name": "stdout",
     "output_type": "stream",
     "text": [
      "[ 0.68862619  0.2427183 ]\n"
     ]
    }
   ],
   "source": [
    "pca = sklearnPCA(n_components=2)\n",
    "pca.fit_transform(df1)\n",
    "print pca.explained_variance_ratio_ "
   ]
  },
  {
   "cell_type": "code",
   "execution_count": 349,
   "metadata": {
    "collapsed": false
   },
   "outputs": [
    {
     "data": {
      "image/png": "[encoded data removed]",
      "text/plain": [
       "<matplotlib.figure.Figure at 0x11a2afb10>"
      ]
     },
     "metadata": {},
     "output_type": "display_data"
    }
   ],
   "source": [
    "plt.figure(figsize = (20,10))\n",
    "pca = sklearnPCA().fit(X_std)\n",
    "plt.title(\"PCA of Home Living Conditions Survey\",size =30)\n",
    "plt.plot(np.cumsum(pca.explained_variance_ratio_), marker = 'o')\n",
    "#plt.hist(np.cumsum(pca.explained_variance_ratio_))\n",
    "plt.xlabel('number of components',size =30)\n",
    "plt.ylabel('cumulative explained variance',size = 30)\n",
    "#plt.xticks(range(0,9),list(df)[:10] , rotation = 'vertical' , size =20)\n",
    "plt.yticks(size = 30)\n",
    "plt.grid()\n",
    "plt.show()"
   ]
  },
  {
   "cell_type": "code",
   "execution_count": 446,
   "metadata": {
    "collapsed": false
   },
   "outputs": [
    {
     "data": {
      "image/png": "[encoded data removed]",
      "text/plain": [
       "<matplotlib.figure.Figure at 0x11932d1d0>"
      ]
     },
     "metadata": {},
     "output_type": "display_data"
    }
   ],
   "source": [
    "#!/usr/bin/env python2.7\n",
    "# -*- coding: utf-8 -*-\n",
    "\"\"\"Biplot example using pcasvd from statsmodels and matplotlib.\n",
    "This is an example of how a biplot (like that in R) can be produced\n",
    "using pcasvd and matplotlib. Additionally, this example does k-means\n",
    "clustering and color observations by which cluster they belong to.\n",
    "\"\"\"\n",
    "import matplotlib.pyplot as plt\n",
    "import numpy as np\n",
    "import pandas as pd\n",
    "from scipy.cluster.vq import kmeans, vq\n",
    "from statsmodels.sandbox.tools.tools_pca import pcasvd\n",
    "\n",
    "\n",
    "def biplot(plt, pca, labels=None, colors=None,\n",
    "           xpc=1, ypc=2, scale=1):\n",
    "    \"\"\"Generate biplot from the result of pcasvd of statsmodels.\n",
    "    Parameters\n",
    "    ----------\n",
    "    plt : object\n",
    "        An existing pyplot module reference.\n",
    "    pca : tuple\n",
    "        The result from statsmodels.sandbox.tools.tools_pca.pcasvd.\n",
    "    labels : array_like, optional\n",
    "        Labels for each observation.\n",
    "    colors : array_like, optional\n",
    "        Colors for each observation.\n",
    "    xpc, ypc : int, optional\n",
    "        The principal component number for x- and y-axis. Defaults to\n",
    "        (xpc, ypc) = (1, 2).\n",
    "    scale : float\n",
    "        The variables are scaled by lambda ** scale, where lambda =\n",
    "        singular value = sqrt(eigenvalue), and the observations are\n",
    "        scaled by lambda ** (1 - scale). Must be in [0, 1].\n",
    "    Returns\n",
    "    -------\n",
    "    None.\n",
    "    \"\"\"\n",
    "    xpc, ypc = (xpc - 1, ypc - 1)\n",
    "    xreduced, factors, evals, evecs = pca\n",
    "    singvals = np.sqrt(evals)\n",
    "\n",
    "    # data\n",
    "    xs = factors[:, xpc] * singvals[xpc]**(1. - scale)\n",
    "    ys = factors[:, ypc] * singvals[ypc]**(1. - scale)\n",
    "\n",
    "    #if labels is not None:\n",
    "    for i, (t, x, y) in enumerate(zip(labels, xs, ys)):\n",
    "        c = 'k' if colors is None else colors[i]\n",
    "        plt.text(x, y, t, ha='center', va='center',size = 13)\n",
    "        xmin, xmax = xs.min(), xs.max()\n",
    "        ymin, ymax = ys.min(), ys.max()\n",
    "        xpad = (xmax - xmin) * 0.1\n",
    "        ypad = (ymax - ymin) * 0.1\n",
    "        plt.xlim(xmin - xpad, xmax + xpad)\n",
    "        plt.ylim(ymin - ypad, ymax + ypad)\n",
    "    #else:\n",
    "#     plt.annotate(labels, xy=(x, y), xytext=(0, 0), textcoords='offset points' , size = 20)\n",
    "#     colors = 'k' if colors is None else colors\n",
    "#     plt.scatter(xs, ys, c=colors, marker='.')\n",
    "\n",
    "#     # variables\n",
    "    tvars = np.dot(np.eye(factors.shape[0], factors.shape[1]),\n",
    "                   evecs) * singvals**scale\n",
    "\n",
    "#     print factors.shape\n",
    "#     print singvals.reshape(14,1)\n",
    "#     print scale.shape\n",
    "#     print evecs.shape\n",
    "    #print xreduced.columns.values\n",
    "#     print xpc\n",
    "#     print ypc\n",
    "    \n",
    "    tvars = np.dot(np.eye(factors.shape[0], factors.shape[1]),\n",
    "                   evecs) * singvals**scale\n",
    "\n",
    "    for i, col in enumerate(xreduced.columns.values):\n",
    "        x, y = tvars[i][xpc], tvars[i][ypc]\n",
    "        plt.arrow(0, 0, x, y, color='r',\n",
    "                  width=0.002, head_width=0.05)\n",
    "        plt.text(x* 1.4, y * 1.4, col, color='r', ha='center', va='center' , size = 12)\n",
    "\n",
    "    plt.xlabel('PC{}'.format(xpc + 1), size = 12)\n",
    "    plt.ylabel('PC{}'.format(ypc + 1), size = 12)\n",
    "\n",
    "def main():\n",
    "    \"\"\"Run a PCA on state.x77 from R and generate its biplot. Color\n",
    "    observations by k-means clustering.\"\"\"\n",
    "    df = pd.read_csv('Household_living_conditions.csv')\n",
    "    columns = list(df)[1:7]\n",
    "    data = df[columns]\n",
    "    data = (data - data.mean()) / data.std()\n",
    "    pca = pcasvd(data, keepdim=0, demean=False)\n",
    "    values = data.values\n",
    "    centroids, _ = kmeans(values,3)\n",
    "    idx, _ = vq(values, centroids)\n",
    "\n",
    "#     idx, _ = vq(values, centroids)\n",
    "\n",
    "    colors = ['gby'[i] for i in idx]\n",
    "\n",
    "    plt.figure(figsize = (10,10))\n",
    "    biplot(plt, pca, labels=df['Region'], colors=colors,\n",
    "           xpc=1, ypc=2)\n",
    "    plt.show()\n",
    "\n",
    "\n",
    "if __name__ == '__main__':\n",
    "    main()\n"
   ]
  },
  {
   "cell_type": "code",
   "execution_count": 450,
   "metadata": {
    "collapsed": false,
    "scrolled": true
   },
   "outputs": [
    {
     "name": "stderr",
     "output_type": "stream",
     "text": [
      "/anaconda/lib/python2.7/site-packages/ipykernel/__main__.py:2: SettingWithCopyWarning: \n",
      "A value is trying to be set on a copy of a slice from a DataFrame.\n",
      "Try using .loc[row_indexer,col_indexer] = value instead\n",
      "\n",
      "See the caveats in the documentation: http://pandas.pydata.org/pandas-docs/stable/indexing.html#indexing-view-versus-copy\n",
      "  from ipykernel import kernelapp as app\n"
     ]
    }
   ],
   "source": [
    "credit = df[list(df)[:7]]\n",
    "credit['mean']= credit.mean(axis = 1)"
   ]
  },
  {
   "cell_type": "code",
   "execution_count": 451,
   "metadata": {
    "collapsed": false
   },
   "outputs": [
    {
     "name": "stderr",
     "output_type": "stream",
     "text": [
      "/anaconda/lib/python2.7/site-packages/ipykernel/__main__.py:1: FutureWarning: sort(columns=....) is deprecated, use sort_values(by=.....)\n",
      "  if __name__ == '__main__':\n"
     ]
    },
    {
     "data": {
      "text/html": [
       "<div>\n",
       "<table border=\"1\" class=\"dataframe\">\n",
       "  <thead>\n",
       "    <tr style=\"text-align: right;\">\n",
       "      <th></th>\n",
       "      <th>Region</th>\n",
       "      <th>mean</th>\n",
       "    </tr>\n",
       "  </thead>\n",
       "  <tbody>\n",
       "    <tr>\n",
       "      <th>4</th>\n",
       "      <td>kayah</td>\n",
       "      <td>30.966667</td>\n",
       "    </tr>\n",
       "    <tr>\n",
       "      <th>0</th>\n",
       "      <td>ayeyarwaddy</td>\n",
       "      <td>28.050000</td>\n",
       "    </tr>\n",
       "    <tr>\n",
       "      <th>12</th>\n",
       "      <td>yangon</td>\n",
       "      <td>27.933333</td>\n",
       "    </tr>\n",
       "    <tr>\n",
       "      <th>1</th>\n",
       "      <td>bago</td>\n",
       "      <td>22.950000</td>\n",
       "    </tr>\n",
       "    <tr>\n",
       "      <th>8</th>\n",
       "      <td>rakhine</td>\n",
       "      <td>21.366667</td>\n",
       "    </tr>\n",
       "    <tr>\n",
       "      <th>6</th>\n",
       "      <td>magway</td>\n",
       "      <td>21.250000</td>\n",
       "    </tr>\n",
       "    <tr>\n",
       "      <th>13</th>\n",
       "      <td>mandalay</td>\n",
       "      <td>17.500000</td>\n",
       "    </tr>\n",
       "    <tr>\n",
       "      <th>7</th>\n",
       "      <td>mon</td>\n",
       "      <td>16.766667</td>\n",
       "    </tr>\n",
       "    <tr>\n",
       "      <th>5</th>\n",
       "      <td>kayin</td>\n",
       "      <td>15.983333</td>\n",
       "    </tr>\n",
       "    <tr>\n",
       "      <th>3</th>\n",
       "      <td>kachin</td>\n",
       "      <td>14.666667</td>\n",
       "    </tr>\n",
       "    <tr>\n",
       "      <th>11</th>\n",
       "      <td>tanintharyi</td>\n",
       "      <td>14.233333</td>\n",
       "    </tr>\n",
       "    <tr>\n",
       "      <th>9</th>\n",
       "      <td>sagaing</td>\n",
       "      <td>13.516667</td>\n",
       "    </tr>\n",
       "    <tr>\n",
       "      <th>2</th>\n",
       "      <td>chin</td>\n",
       "      <td>12.516667</td>\n",
       "    </tr>\n",
       "    <tr>\n",
       "      <th>10</th>\n",
       "      <td>shan</td>\n",
       "      <td>7.366667</td>\n",
       "    </tr>\n",
       "  </tbody>\n",
       "</table>\n",
       "</div>"
      ],
      "text/plain": [
       "         Region       mean\n",
       "4         kayah  30.966667\n",
       "0   ayeyarwaddy  28.050000\n",
       "12       yangon  27.933333\n",
       "1          bago  22.950000\n",
       "8       rakhine  21.366667\n",
       "6        magway  21.250000\n",
       "13     mandalay  17.500000\n",
       "7           mon  16.766667\n",
       "5         kayin  15.983333\n",
       "3        kachin  14.666667\n",
       "11  tanintharyi  14.233333\n",
       "9       sagaing  13.516667\n",
       "2          chin  12.516667\n",
       "10         shan   7.366667"
      ]
     },
     "execution_count": 451,
     "metadata": {},
     "output_type": "execute_result"
    }
   ],
   "source": [
    "credit_sorted = credit.sort(['mean'],ascending = False)\n",
    "credit_sorted[['Region','mean']]"
   ]
  },
  {
   "cell_type": "code",
   "execution_count": 455,
   "metadata": {
    "collapsed": false
   },
   "outputs": [
    {
     "name": "stderr",
     "output_type": "stream",
     "text": [
      "/anaconda/lib/python2.7/site-packages/ipykernel/__main__.py:2: SettingWithCopyWarning: \n",
      "A value is trying to be set on a copy of a slice from a DataFrame.\n",
      "Try using .loc[row_indexer,col_indexer] = value instead\n",
      "\n",
      "See the caveats in the documentation: http://pandas.pydata.org/pandas-docs/stable/indexing.html#indexing-view-versus-copy\n",
      "  from ipykernel import kernelapp as app\n"
     ]
    }
   ],
   "source": [
    "electricity = df[['Region']+list(df)[7:11]]\n",
    "electricity['mean']= electricity.mean(axis = 1)"
   ]
  },
  {
   "cell_type": "code",
   "execution_count": 456,
   "metadata": {
    "collapsed": false
   },
   "outputs": [
    {
     "name": "stderr",
     "output_type": "stream",
     "text": [
      "/anaconda/lib/python2.7/site-packages/ipykernel/__main__.py:1: FutureWarning: sort(columns=....) is deprecated, use sort_values(by=.....)\n",
      "  if __name__ == '__main__':\n"
     ]
    },
    {
     "data": {
      "text/html": [
       "<div>\n",
       "<table border=\"1\" class=\"dataframe\">\n",
       "  <thead>\n",
       "    <tr style=\"text-align: right;\">\n",
       "      <th></th>\n",
       "      <th>Region</th>\n",
       "      <th>mean</th>\n",
       "    </tr>\n",
       "  </thead>\n",
       "  <tbody>\n",
       "    <tr>\n",
       "      <th>12</th>\n",
       "      <td>yangon</td>\n",
       "      <td>73.400</td>\n",
       "    </tr>\n",
       "    <tr>\n",
       "      <th>7</th>\n",
       "      <td>mon</td>\n",
       "      <td>72.575</td>\n",
       "    </tr>\n",
       "    <tr>\n",
       "      <th>4</th>\n",
       "      <td>kayah</td>\n",
       "      <td>71.275</td>\n",
       "    </tr>\n",
       "    <tr>\n",
       "      <th>10</th>\n",
       "      <td>shan</td>\n",
       "      <td>66.050</td>\n",
       "    </tr>\n",
       "    <tr>\n",
       "      <th>11</th>\n",
       "      <td>tanintharyi</td>\n",
       "      <td>56.600</td>\n",
       "    </tr>\n",
       "    <tr>\n",
       "      <th>2</th>\n",
       "      <td>chin</td>\n",
       "      <td>55.225</td>\n",
       "    </tr>\n",
       "    <tr>\n",
       "      <th>5</th>\n",
       "      <td>kayin</td>\n",
       "      <td>54.375</td>\n",
       "    </tr>\n",
       "    <tr>\n",
       "      <th>9</th>\n",
       "      <td>sagaing</td>\n",
       "      <td>54.375</td>\n",
       "    </tr>\n",
       "    <tr>\n",
       "      <th>3</th>\n",
       "      <td>kachin</td>\n",
       "      <td>53.250</td>\n",
       "    </tr>\n",
       "    <tr>\n",
       "      <th>13</th>\n",
       "      <td>mandalay</td>\n",
       "      <td>53.100</td>\n",
       "    </tr>\n",
       "    <tr>\n",
       "      <th>6</th>\n",
       "      <td>magway</td>\n",
       "      <td>41.850</td>\n",
       "    </tr>\n",
       "    <tr>\n",
       "      <th>1</th>\n",
       "      <td>bago</td>\n",
       "      <td>38.225</td>\n",
       "    </tr>\n",
       "    <tr>\n",
       "      <th>0</th>\n",
       "      <td>ayeyarwaddy</td>\n",
       "      <td>37.450</td>\n",
       "    </tr>\n",
       "    <tr>\n",
       "      <th>8</th>\n",
       "      <td>rakhine</td>\n",
       "      <td>33.250</td>\n",
       "    </tr>\n",
       "  </tbody>\n",
       "</table>\n",
       "</div>"
      ],
      "text/plain": [
       "         Region    mean\n",
       "12       yangon  73.400\n",
       "7           mon  72.575\n",
       "4         kayah  71.275\n",
       "10         shan  66.050\n",
       "11  tanintharyi  56.600\n",
       "2          chin  55.225\n",
       "5         kayin  54.375\n",
       "9       sagaing  54.375\n",
       "3        kachin  53.250\n",
       "13     mandalay  53.100\n",
       "6        magway  41.850\n",
       "1          bago  38.225\n",
       "0   ayeyarwaddy  37.450\n",
       "8       rakhine  33.250"
      ]
     },
     "execution_count": 456,
     "metadata": {},
     "output_type": "execute_result"
    }
   ],
   "source": [
    "electricity_sorted = electricity.sort(['mean'],ascending = False)\n",
    "electricity_sorted[['Region','mean']]"
   ]
  },
  {
   "cell_type": "code",
   "execution_count": 480,
   "metadata": {
    "collapsed": false
   },
   "outputs": [
    {
     "name": "stderr",
     "output_type": "stream",
     "text": [
      "/anaconda/lib/python2.7/site-packages/ipykernel/__main__.py:2: SettingWithCopyWarning: \n",
      "A value is trying to be set on a copy of a slice from a DataFrame.\n",
      "Try using .loc[row_indexer,col_indexer] = value instead\n",
      "\n",
      "See the caveats in the documentation: http://pandas.pydata.org/pandas-docs/stable/indexing.html#indexing-view-versus-copy\n",
      "  from ipykernel import kernelapp as app\n",
      "/anaconda/lib/python2.7/site-packages/ipykernel/__main__.py:3: FutureWarning: sort(columns=....) is deprecated, use sort_values(by=.....)\n",
      "  app.launch_new_instance()\n"
     ]
    },
    {
     "data": {
      "text/html": [
       "<div>\n",
       "<table border=\"1\" class=\"dataframe\">\n",
       "  <thead>\n",
       "    <tr style=\"text-align: right;\">\n",
       "      <th></th>\n",
       "      <th>Region</th>\n",
       "      <th>mean</th>\n",
       "    </tr>\n",
       "  </thead>\n",
       "  <tbody>\n",
       "    <tr>\n",
       "      <th>2</th>\n",
       "      <td>chin</td>\n",
       "      <td>80.45</td>\n",
       "    </tr>\n",
       "    <tr>\n",
       "      <th>10</th>\n",
       "      <td>shan</td>\n",
       "      <td>75.20</td>\n",
       "    </tr>\n",
       "    <tr>\n",
       "      <th>12</th>\n",
       "      <td>yangon</td>\n",
       "      <td>73.45</td>\n",
       "    </tr>\n",
       "    <tr>\n",
       "      <th>5</th>\n",
       "      <td>kayin</td>\n",
       "      <td>69.85</td>\n",
       "    </tr>\n",
       "    <tr>\n",
       "      <th>4</th>\n",
       "      <td>kayah</td>\n",
       "      <td>62.50</td>\n",
       "    </tr>\n",
       "    <tr>\n",
       "      <th>7</th>\n",
       "      <td>mon</td>\n",
       "      <td>52.05</td>\n",
       "    </tr>\n",
       "    <tr>\n",
       "      <th>3</th>\n",
       "      <td>kachin</td>\n",
       "      <td>51.95</td>\n",
       "    </tr>\n",
       "    <tr>\n",
       "      <th>13</th>\n",
       "      <td>mandalay</td>\n",
       "      <td>50.90</td>\n",
       "    </tr>\n",
       "    <tr>\n",
       "      <th>9</th>\n",
       "      <td>sagaing</td>\n",
       "      <td>35.85</td>\n",
       "    </tr>\n",
       "    <tr>\n",
       "      <th>1</th>\n",
       "      <td>bago</td>\n",
       "      <td>35.45</td>\n",
       "    </tr>\n",
       "    <tr>\n",
       "      <th>0</th>\n",
       "      <td>ayeyarwaddy</td>\n",
       "      <td>32.75</td>\n",
       "    </tr>\n",
       "    <tr>\n",
       "      <th>6</th>\n",
       "      <td>magway</td>\n",
       "      <td>26.90</td>\n",
       "    </tr>\n",
       "    <tr>\n",
       "      <th>11</th>\n",
       "      <td>tanintharyi</td>\n",
       "      <td>23.30</td>\n",
       "    </tr>\n",
       "    <tr>\n",
       "      <th>8</th>\n",
       "      <td>rakhine</td>\n",
       "      <td>16.55</td>\n",
       "    </tr>\n",
       "  </tbody>\n",
       "</table>\n",
       "</div>"
      ],
      "text/plain": [
       "         Region   mean\n",
       "2          chin  80.45\n",
       "10         shan  75.20\n",
       "12       yangon  73.45\n",
       "5         kayin  69.85\n",
       "4         kayah  62.50\n",
       "7           mon  52.05\n",
       "3        kachin  51.95\n",
       "13     mandalay  50.90\n",
       "9       sagaing  35.85\n",
       "1          bago  35.45\n",
       "0   ayeyarwaddy  32.75\n",
       "6        magway  26.90\n",
       "11  tanintharyi  23.30\n",
       "8       rakhine  16.55"
      ]
     },
     "execution_count": 480,
     "metadata": {},
     "output_type": "execute_result"
    }
   ],
   "source": [
    "roof = df[['Region']+list(df)[15:17]]\n",
    "roof['mean']= roof.mean(axis = 1)\n",
    "roof_sorted = roof.sort(['mean'],ascending = False)\n",
    "roof_sorted[['Region','mean']]"
   ]
  },
  {
   "cell_type": "code",
   "execution_count": 470,
   "metadata": {
    "collapsed": false
   },
   "outputs": [],
   "source": [
    "top_credit = set(credit_sorted['Region'][:8])\n",
    "bottom_electricity = set(electricity_sorted['Region'][6:])"
   ]
  },
  {
   "cell_type": "code",
   "execution_count": 471,
   "metadata": {
    "collapsed": false
   },
   "outputs": [
    {
     "data": {
      "text/plain": [
       "{'ayeyarwaddy', 'bago', 'magway', 'mandalay', 'rakhine'}"
      ]
     },
     "execution_count": 471,
     "metadata": {},
     "output_type": "execute_result"
    }
   ],
   "source": [
    "top_credit.intersection(bottom_electricity)"
   ]
  },
  {
   "cell_type": "code",
   "execution_count": 267,
   "metadata": {
    "collapsed": true
   },
   "outputs": [],
   "source": [
    "# http://okomestudio.net/biboroku/?p=2292"
   ]
  }
 ],
 "metadata": {
  "kernelspec": {
   "display_name": "Python [conda root]",
   "language": "python",
   "name": "conda-root-py"
  },
  "language_info": {
   "codemirror_mode": {
    "name": "ipython",
    "version": 2
   },
   "file_extension": ".py",
   "mimetype": "text/x-python",
   "name": "python",
   "nbconvert_exporter": "python",
   "pygments_lexer": "ipython2",
   "version": "2.7.13"
  }
 },
 "nbformat": 4,
 "nbformat_minor": 2
}
