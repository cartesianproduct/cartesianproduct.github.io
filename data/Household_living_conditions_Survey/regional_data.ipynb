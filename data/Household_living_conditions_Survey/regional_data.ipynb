{
 "cells": [
  {
   "cell_type": "code",
   "execution_count": 1,
   "metadata": {
    "collapsed": true
   },
   "outputs": [],
   "source": [
    "import numpy as np\n",
    "import pandas as pd\n",
    "import statsmodels.api as sm\n",
    "import matplotlib.pyplot as plt\n",
    "import json\n",
    "% matplotlib inline"
   ]
  },
  {
   "cell_type": "code",
   "execution_count": 67,
   "metadata": {
    "collapsed": false
   },
   "outputs": [],
   "source": [
    "with open(\"stateandregionboundaries.geojson\") as json_data:\n",
    "    d = json.load(json_data)"
   ]
  },
  {
   "cell_type": "code",
   "execution_count": 74,
   "metadata": {
    "collapsed": false
   },
   "outputs": [
    {
     "name": "stdout",
     "output_type": "stream",
     "text": [
      "Ayeyarwady\n",
      "Bago\n",
      "Chin\n",
      "Kachin\n",
      "Kayah\n",
      "Kayin\n",
      "Magway\n",
      "Mon\n",
      "Rakhine\n",
      "Sagaing\n",
      "Shan\n",
      "Tanintharyi\n",
      "Yangon\n",
      "Mandalay\n"
     ]
    }
   ],
   "source": [
    "for index in range(len(d['features'])-1):\n",
    "    print d['features'][index]['properties']['st']"
   ]
  },
  {
   "cell_type": "code",
   "execution_count": 115,
   "metadata": {
    "collapsed": false
   },
   "outputs": [],
   "source": [
    "Pcode = [d['features'][index]['properties']['st_pcode'] for index in range(len(d['features'])-1)]"
   ]
  },
  {
   "cell_type": "code",
   "execution_count": null,
   "metadata": {
    "collapsed": true
   },
   "outputs": [],
   "source": []
  },
  {
   "cell_type": "code",
   "execution_count": 83,
   "metadata": {
    "collapsed": false
   },
   "outputs": [],
   "source": [
    "coordinates = [d['features'][i]['geometry']['coordinates'] for index in range(len(d['features'])-1)]\n"
   ]
  },
  {
   "cell_type": "code",
   "execution_count": 123,
   "metadata": {
    "collapsed": true
   },
   "outputs": [],
   "source": [
    "df = pd.read_csv('Household_living_conditions.csv')"
   ]
  },
  {
   "cell_type": "code",
   "execution_count": 124,
   "metadata": {
    "collapsed": false
   },
   "outputs": [
    {
     "data": {
      "text/html": [
       "<div>\n",
       "<table border=\"1\" class=\"dataframe\">\n",
       "  <thead>\n",
       "    <tr style=\"text-align: right;\">\n",
       "      <th></th>\n",
       "      <th>Region</th>\n",
       "      <th>access_to_credit_agriculture Poor</th>\n",
       "      <th>access_to_credit_agriculture Non_Poor</th>\n",
       "      <th>access_to_credit_Non-Agricultural_businesses Poor</th>\n",
       "      <th>access_to_credit_Non-Agricultural_businesses Non_Poor</th>\n",
       "      <th>access_to_credit_Non-Agricultural_businesses Urban</th>\n",
       "      <th>access_to_credit_Non-Agricultural_businesses Rural</th>\n",
       "      <th>access_to_electricity Poor</th>\n",
       "      <th>access_to_electricity Non_Poor</th>\n",
       "      <th>access_to_electricity Urban</th>\n",
       "      <th>...</th>\n",
       "      <th>Education Level of HouseHold Head secondary_school</th>\n",
       "      <th>Education Level of HouseHold Head post_secondary_school</th>\n",
       "      <th>Female Headed HouseHolds Poor</th>\n",
       "      <th>Female Headed HouseHolds Non_Poor</th>\n",
       "      <th>Landless Rate In Agriculture Poor</th>\n",
       "      <th>Landless Rate In Agriculture Non_Poor</th>\n",
       "      <th>Poverty Transition Matrix Chronic_Poor</th>\n",
       "      <th>Poverty Transition Matrix Non_Poor</th>\n",
       "      <th>Poverty Transition Matrix Descents</th>\n",
       "      <th>Poverty Transition Matrix Escapes</th>\n",
       "    </tr>\n",
       "  </thead>\n",
       "  <tbody>\n",
       "    <tr>\n",
       "      <th>0</th>\n",
       "      <td>ayeyarwaddy</td>\n",
       "      <td>48.5</td>\n",
       "      <td>55.4</td>\n",
       "      <td>19.2</td>\n",
       "      <td>15.6</td>\n",
       "      <td>11.3</td>\n",
       "      <td>18.3</td>\n",
       "      <td>14.5</td>\n",
       "      <td>35.4</td>\n",
       "      <td>80.1</td>\n",
       "      <td>...</td>\n",
       "      <td>9.4</td>\n",
       "      <td>3.4</td>\n",
       "      <td>16.4</td>\n",
       "      <td>17.1</td>\n",
       "      <td>50.4</td>\n",
       "      <td>24.2</td>\n",
       "      <td>11.5</td>\n",
       "      <td>60.9</td>\n",
       "      <td>14.3</td>\n",
       "      <td>13.3</td>\n",
       "    </tr>\n",
       "    <tr>\n",
       "      <th>1</th>\n",
       "      <td>bago</td>\n",
       "      <td>44.5</td>\n",
       "      <td>38.4</td>\n",
       "      <td>10.2</td>\n",
       "      <td>15.1</td>\n",
       "      <td>15.7</td>\n",
       "      <td>13.8</td>\n",
       "      <td>17.7</td>\n",
       "      <td>33.9</td>\n",
       "      <td>77.0</td>\n",
       "      <td>...</td>\n",
       "      <td>7.8</td>\n",
       "      <td>2.6</td>\n",
       "      <td>19.9</td>\n",
       "      <td>21.8</td>\n",
       "      <td>69.6</td>\n",
       "      <td>35.4</td>\n",
       "      <td>5.6</td>\n",
       "      <td>66.8</td>\n",
       "      <td>9.7</td>\n",
       "      <td>17.9</td>\n",
       "    </tr>\n",
       "    <tr>\n",
       "      <th>2</th>\n",
       "      <td>chin</td>\n",
       "      <td>8.2</td>\n",
       "      <td>0.0</td>\n",
       "      <td>24.0</td>\n",
       "      <td>9.3</td>\n",
       "      <td>17.4</td>\n",
       "      <td>16.2</td>\n",
       "      <td>50.2</td>\n",
       "      <td>51.0</td>\n",
       "      <td>79.0</td>\n",
       "      <td>...</td>\n",
       "      <td>12.5</td>\n",
       "      <td>3.7</td>\n",
       "      <td>13.6</td>\n",
       "      <td>16.4</td>\n",
       "      <td>8.4</td>\n",
       "      <td>7.0</td>\n",
       "      <td>51.5</td>\n",
       "      <td>10.5</td>\n",
       "      <td>17.4</td>\n",
       "      <td>20.6</td>\n",
       "    </tr>\n",
       "    <tr>\n",
       "      <th>3</th>\n",
       "      <td>kachin</td>\n",
       "      <td>28.5</td>\n",
       "      <td>24.4</td>\n",
       "      <td>9.2</td>\n",
       "      <td>8.7</td>\n",
       "      <td>7.2</td>\n",
       "      <td>10.0</td>\n",
       "      <td>28.2</td>\n",
       "      <td>62.0</td>\n",
       "      <td>77.4</td>\n",
       "      <td>...</td>\n",
       "      <td>10.4</td>\n",
       "      <td>4.1</td>\n",
       "      <td>27.9</td>\n",
       "      <td>24.0</td>\n",
       "      <td>21.4</td>\n",
       "      <td>15.0</td>\n",
       "      <td>12.5</td>\n",
       "      <td>55.1</td>\n",
       "      <td>8.9</td>\n",
       "      <td>23.6</td>\n",
       "    </tr>\n",
       "    <tr>\n",
       "      <th>4</th>\n",
       "      <td>kayah</td>\n",
       "      <td>52.4</td>\n",
       "      <td>43.6</td>\n",
       "      <td>59.4</td>\n",
       "      <td>9.4</td>\n",
       "      <td>12.8</td>\n",
       "      <td>8.2</td>\n",
       "      <td>43.6</td>\n",
       "      <td>79.6</td>\n",
       "      <td>100.0</td>\n",
       "      <td>...</td>\n",
       "      <td>8.6</td>\n",
       "      <td>3.6</td>\n",
       "      <td>23.2</td>\n",
       "      <td>17.8</td>\n",
       "      <td>24.5</td>\n",
       "      <td>10.8</td>\n",
       "      <td>3.7</td>\n",
       "      <td>71.7</td>\n",
       "      <td>4.9</td>\n",
       "      <td>19.7</td>\n",
       "    </tr>\n",
       "  </tbody>\n",
       "</table>\n",
       "<p>5 rows × 48 columns</p>\n",
       "</div>"
      ],
      "text/plain": [
       "        Region   access_to_credit_agriculture Poor  \\\n",
       "0  ayeyarwaddy                                48.5   \n",
       "1         bago                                44.5   \n",
       "2         chin                                 8.2   \n",
       "3       kachin                                28.5   \n",
       "4        kayah                                52.4   \n",
       "\n",
       "   access_to_credit_agriculture Non_Poor  \\\n",
       "0                                   55.4   \n",
       "1                                   38.4   \n",
       "2                                    0.0   \n",
       "3                                   24.4   \n",
       "4                                   43.6   \n",
       "\n",
       "    access_to_credit_Non-Agricultural_businesses Poor  \\\n",
       "0                                               19.2    \n",
       "1                                               10.2    \n",
       "2                                               24.0    \n",
       "3                                                9.2    \n",
       "4                                               59.4    \n",
       "\n",
       "   access_to_credit_Non-Agricultural_businesses Non_Poor  \\\n",
       "0                                               15.6       \n",
       "1                                               15.1       \n",
       "2                                                9.3       \n",
       "3                                                8.7       \n",
       "4                                                9.4       \n",
       "\n",
       "   access_to_credit_Non-Agricultural_businesses Urban  \\\n",
       "0                                               11.3    \n",
       "1                                               15.7    \n",
       "2                                               17.4    \n",
       "3                                                7.2    \n",
       "4                                               12.8    \n",
       "\n",
       "   access_to_credit_Non-Agricultural_businesses Rural  \\\n",
       "0                                               18.3    \n",
       "1                                               13.8    \n",
       "2                                               16.2    \n",
       "3                                               10.0    \n",
       "4                                                8.2    \n",
       "\n",
       "   access_to_electricity Poor  access_to_electricity Non_Poor  \\\n",
       "0                        14.5                            35.4   \n",
       "1                        17.7                            33.9   \n",
       "2                        50.2                            51.0   \n",
       "3                        28.2                            62.0   \n",
       "4                        43.6                            79.6   \n",
       "\n",
       "   access_to_electricity Urban                ...                  \\\n",
       "0                         80.1                ...                   \n",
       "1                         77.0                ...                   \n",
       "2                         79.0                ...                   \n",
       "3                         77.4                ...                   \n",
       "4                        100.0                ...                   \n",
       "\n",
       "   Education Level of HouseHold Head secondary_school  \\\n",
       "0                                                9.4    \n",
       "1                                                7.8    \n",
       "2                                               12.5    \n",
       "3                                               10.4    \n",
       "4                                                8.6    \n",
       "\n",
       "   Education Level of HouseHold Head post_secondary_school  \\\n",
       "0                                                3.4         \n",
       "1                                                2.6         \n",
       "2                                                3.7         \n",
       "3                                                4.1         \n",
       "4                                                3.6         \n",
       "\n",
       "   Female Headed HouseHolds Poor  Female Headed HouseHolds Non_Poor  \\\n",
       "0                           16.4                               17.1   \n",
       "1                           19.9                               21.8   \n",
       "2                           13.6                               16.4   \n",
       "3                           27.9                               24.0   \n",
       "4                           23.2                               17.8   \n",
       "\n",
       "   Landless Rate In Agriculture Poor  Landless Rate In Agriculture Non_Poor  \\\n",
       "0                               50.4                                   24.2   \n",
       "1                               69.6                                   35.4   \n",
       "2                                8.4                                    7.0   \n",
       "3                               21.4                                   15.0   \n",
       "4                               24.5                                   10.8   \n",
       "\n",
       "   Poverty Transition Matrix Chronic_Poor  \\\n",
       "0                                    11.5   \n",
       "1                                     5.6   \n",
       "2                                    51.5   \n",
       "3                                    12.5   \n",
       "4                                     3.7   \n",
       "\n",
       "    Poverty Transition Matrix Non_Poor  Poverty Transition Matrix Descents  \\\n",
       "0                                 60.9                                14.3   \n",
       "1                                 66.8                                 9.7   \n",
       "2                                 10.5                                17.4   \n",
       "3                                 55.1                                 8.9   \n",
       "4                                 71.7                                 4.9   \n",
       "\n",
       "   Poverty Transition Matrix Escapes  \n",
       "0                               13.3  \n",
       "1                               17.9  \n",
       "2                               20.6  \n",
       "3                               23.6  \n",
       "4                               19.7  \n",
       "\n",
       "[5 rows x 48 columns]"
      ]
     },
     "execution_count": 124,
     "metadata": {},
     "output_type": "execute_result"
    }
   ],
   "source": [
    "df.head()"
   ]
  },
  {
   "cell_type": "code",
   "execution_count": 92,
   "metadata": {
    "collapsed": false
   },
   "outputs": [
    {
     "data": {
      "text/plain": [
       "15"
      ]
     },
     "execution_count": 92,
     "metadata": {},
     "output_type": "execute_result"
    }
   ],
   "source": [
    "len(df)"
   ]
  },
  {
   "cell_type": "code",
   "execution_count": 103,
   "metadata": {
    "collapsed": false
   },
   "outputs": [],
   "source": [
    "df1 = pd.DataFrame(columns=[])\n",
    "df1['coordinates'] = ['coordinates'] + coordinates"
   ]
  },
  {
   "cell_type": "code",
   "execution_count": 104,
   "metadata": {
    "collapsed": true
   },
   "outputs": [],
   "source": [
    "df1.to_csv('coordinates.csv',index = False)"
   ]
  },
  {
   "cell_type": "code",
   "execution_count": 105,
   "metadata": {
    "collapsed": false
   },
   "outputs": [
    {
     "data": {
      "text/plain": [
       "15"
      ]
     },
     "execution_count": 105,
     "metadata": {},
     "output_type": "execute_result"
    }
   ],
   "source": [
    "len(df1)"
   ]
  },
  {
   "cell_type": "code",
   "execution_count": 106,
   "metadata": {
    "collapsed": false
   },
   "outputs": [],
   "source": [
    "df['coordinates'] = df1['coordinates']"
   ]
  },
  {
   "cell_type": "code",
   "execution_count": 125,
   "metadata": {
    "collapsed": true
   },
   "outputs": [],
   "source": [
    "df['Pcode'] = Pcode"
   ]
  },
  {
   "cell_type": "code",
   "execution_count": 126,
   "metadata": {
    "collapsed": true
   },
   "outputs": [],
   "source": [
    "df.to_csv('Household_living_conditions.csv', index= False)"
   ]
  },
  {
   "cell_type": "code",
   "execution_count": 127,
   "metadata": {
    "collapsed": false
   },
   "outputs": [
    {
     "data": {
      "text/html": [
       "<div>\n",
       "<table border=\"1\" class=\"dataframe\">\n",
       "  <thead>\n",
       "    <tr style=\"text-align: right;\">\n",
       "      <th></th>\n",
       "      <th>Region</th>\n",
       "      <th>access_to_credit_agriculture Poor</th>\n",
       "      <th>access_to_credit_agriculture Non_Poor</th>\n",
       "      <th>access_to_credit_Non-Agricultural_businesses Poor</th>\n",
       "      <th>access_to_credit_Non-Agricultural_businesses Non_Poor</th>\n",
       "      <th>access_to_credit_Non-Agricultural_businesses Urban</th>\n",
       "      <th>access_to_credit_Non-Agricultural_businesses Rural</th>\n",
       "      <th>access_to_electricity Poor</th>\n",
       "      <th>access_to_electricity Non_Poor</th>\n",
       "      <th>access_to_electricity Urban</th>\n",
       "      <th>...</th>\n",
       "      <th>Education Level of HouseHold Head post_secondary_school</th>\n",
       "      <th>Female Headed HouseHolds Poor</th>\n",
       "      <th>Female Headed HouseHolds Non_Poor</th>\n",
       "      <th>Landless Rate In Agriculture Poor</th>\n",
       "      <th>Landless Rate In Agriculture Non_Poor</th>\n",
       "      <th>Poverty Transition Matrix Chronic_Poor</th>\n",
       "      <th>Poverty Transition Matrix Non_Poor</th>\n",
       "      <th>Poverty Transition Matrix Descents</th>\n",
       "      <th>Poverty Transition Matrix Escapes</th>\n",
       "      <th>Pcode</th>\n",
       "    </tr>\n",
       "  </thead>\n",
       "  <tbody>\n",
       "    <tr>\n",
       "      <th>0</th>\n",
       "      <td>ayeyarwaddy</td>\n",
       "      <td>48.5</td>\n",
       "      <td>55.4</td>\n",
       "      <td>19.2</td>\n",
       "      <td>15.6</td>\n",
       "      <td>11.3</td>\n",
       "      <td>18.3</td>\n",
       "      <td>14.5</td>\n",
       "      <td>35.4</td>\n",
       "      <td>80.1</td>\n",
       "      <td>...</td>\n",
       "      <td>3.4</td>\n",
       "      <td>16.4</td>\n",
       "      <td>17.1</td>\n",
       "      <td>50.4</td>\n",
       "      <td>24.2</td>\n",
       "      <td>11.5</td>\n",
       "      <td>60.9</td>\n",
       "      <td>14.3</td>\n",
       "      <td>13.3</td>\n",
       "      <td>MMR017</td>\n",
       "    </tr>\n",
       "    <tr>\n",
       "      <th>1</th>\n",
       "      <td>bago</td>\n",
       "      <td>44.5</td>\n",
       "      <td>38.4</td>\n",
       "      <td>10.2</td>\n",
       "      <td>15.1</td>\n",
       "      <td>15.7</td>\n",
       "      <td>13.8</td>\n",
       "      <td>17.7</td>\n",
       "      <td>33.9</td>\n",
       "      <td>77.0</td>\n",
       "      <td>...</td>\n",
       "      <td>2.6</td>\n",
       "      <td>19.9</td>\n",
       "      <td>21.8</td>\n",
       "      <td>69.6</td>\n",
       "      <td>35.4</td>\n",
       "      <td>5.6</td>\n",
       "      <td>66.8</td>\n",
       "      <td>9.7</td>\n",
       "      <td>17.9</td>\n",
       "      <td>MMR111</td>\n",
       "    </tr>\n",
       "    <tr>\n",
       "      <th>2</th>\n",
       "      <td>chin</td>\n",
       "      <td>8.2</td>\n",
       "      <td>0.0</td>\n",
       "      <td>24.0</td>\n",
       "      <td>9.3</td>\n",
       "      <td>17.4</td>\n",
       "      <td>16.2</td>\n",
       "      <td>50.2</td>\n",
       "      <td>51.0</td>\n",
       "      <td>79.0</td>\n",
       "      <td>...</td>\n",
       "      <td>3.7</td>\n",
       "      <td>13.6</td>\n",
       "      <td>16.4</td>\n",
       "      <td>8.4</td>\n",
       "      <td>7.0</td>\n",
       "      <td>51.5</td>\n",
       "      <td>10.5</td>\n",
       "      <td>17.4</td>\n",
       "      <td>20.6</td>\n",
       "      <td>MMR004</td>\n",
       "    </tr>\n",
       "    <tr>\n",
       "      <th>3</th>\n",
       "      <td>kachin</td>\n",
       "      <td>28.5</td>\n",
       "      <td>24.4</td>\n",
       "      <td>9.2</td>\n",
       "      <td>8.7</td>\n",
       "      <td>7.2</td>\n",
       "      <td>10.0</td>\n",
       "      <td>28.2</td>\n",
       "      <td>62.0</td>\n",
       "      <td>77.4</td>\n",
       "      <td>...</td>\n",
       "      <td>4.1</td>\n",
       "      <td>27.9</td>\n",
       "      <td>24.0</td>\n",
       "      <td>21.4</td>\n",
       "      <td>15.0</td>\n",
       "      <td>12.5</td>\n",
       "      <td>55.1</td>\n",
       "      <td>8.9</td>\n",
       "      <td>23.6</td>\n",
       "      <td>MMR001</td>\n",
       "    </tr>\n",
       "    <tr>\n",
       "      <th>4</th>\n",
       "      <td>kayah</td>\n",
       "      <td>52.4</td>\n",
       "      <td>43.6</td>\n",
       "      <td>59.4</td>\n",
       "      <td>9.4</td>\n",
       "      <td>12.8</td>\n",
       "      <td>8.2</td>\n",
       "      <td>43.6</td>\n",
       "      <td>79.6</td>\n",
       "      <td>100.0</td>\n",
       "      <td>...</td>\n",
       "      <td>3.6</td>\n",
       "      <td>23.2</td>\n",
       "      <td>17.8</td>\n",
       "      <td>24.5</td>\n",
       "      <td>10.8</td>\n",
       "      <td>3.7</td>\n",
       "      <td>71.7</td>\n",
       "      <td>4.9</td>\n",
       "      <td>19.7</td>\n",
       "      <td>MMR002</td>\n",
       "    </tr>\n",
       "  </tbody>\n",
       "</table>\n",
       "<p>5 rows × 49 columns</p>\n",
       "</div>"
      ],
      "text/plain": [
       "        Region   access_to_credit_agriculture Poor  \\\n",
       "0  ayeyarwaddy                                48.5   \n",
       "1         bago                                44.5   \n",
       "2         chin                                 8.2   \n",
       "3       kachin                                28.5   \n",
       "4        kayah                                52.4   \n",
       "\n",
       "   access_to_credit_agriculture Non_Poor  \\\n",
       "0                                   55.4   \n",
       "1                                   38.4   \n",
       "2                                    0.0   \n",
       "3                                   24.4   \n",
       "4                                   43.6   \n",
       "\n",
       "    access_to_credit_Non-Agricultural_businesses Poor  \\\n",
       "0                                               19.2    \n",
       "1                                               10.2    \n",
       "2                                               24.0    \n",
       "3                                                9.2    \n",
       "4                                               59.4    \n",
       "\n",
       "   access_to_credit_Non-Agricultural_businesses Non_Poor  \\\n",
       "0                                               15.6       \n",
       "1                                               15.1       \n",
       "2                                                9.3       \n",
       "3                                                8.7       \n",
       "4                                                9.4       \n",
       "\n",
       "   access_to_credit_Non-Agricultural_businesses Urban  \\\n",
       "0                                               11.3    \n",
       "1                                               15.7    \n",
       "2                                               17.4    \n",
       "3                                                7.2    \n",
       "4                                               12.8    \n",
       "\n",
       "   access_to_credit_Non-Agricultural_businesses Rural  \\\n",
       "0                                               18.3    \n",
       "1                                               13.8    \n",
       "2                                               16.2    \n",
       "3                                               10.0    \n",
       "4                                                8.2    \n",
       "\n",
       "   access_to_electricity Poor  access_to_electricity Non_Poor  \\\n",
       "0                        14.5                            35.4   \n",
       "1                        17.7                            33.9   \n",
       "2                        50.2                            51.0   \n",
       "3                        28.2                            62.0   \n",
       "4                        43.6                            79.6   \n",
       "\n",
       "   access_to_electricity Urban   ...    \\\n",
       "0                         80.1   ...     \n",
       "1                         77.0   ...     \n",
       "2                         79.0   ...     \n",
       "3                         77.4   ...     \n",
       "4                        100.0   ...     \n",
       "\n",
       "   Education Level of HouseHold Head post_secondary_school  \\\n",
       "0                                                3.4         \n",
       "1                                                2.6         \n",
       "2                                                3.7         \n",
       "3                                                4.1         \n",
       "4                                                3.6         \n",
       "\n",
       "   Female Headed HouseHolds Poor  Female Headed HouseHolds Non_Poor  \\\n",
       "0                           16.4                               17.1   \n",
       "1                           19.9                               21.8   \n",
       "2                           13.6                               16.4   \n",
       "3                           27.9                               24.0   \n",
       "4                           23.2                               17.8   \n",
       "\n",
       "   Landless Rate In Agriculture Poor  Landless Rate In Agriculture Non_Poor  \\\n",
       "0                               50.4                                   24.2   \n",
       "1                               69.6                                   35.4   \n",
       "2                                8.4                                    7.0   \n",
       "3                               21.4                                   15.0   \n",
       "4                               24.5                                   10.8   \n",
       "\n",
       "   Poverty Transition Matrix Chronic_Poor  \\\n",
       "0                                    11.5   \n",
       "1                                     5.6   \n",
       "2                                    51.5   \n",
       "3                                    12.5   \n",
       "4                                     3.7   \n",
       "\n",
       "    Poverty Transition Matrix Non_Poor  Poverty Transition Matrix Descents  \\\n",
       "0                                 60.9                                14.3   \n",
       "1                                 66.8                                 9.7   \n",
       "2                                 10.5                                17.4   \n",
       "3                                 55.1                                 8.9   \n",
       "4                                 71.7                                 4.9   \n",
       "\n",
       "   Poverty Transition Matrix Escapes   Pcode  \n",
       "0                               13.3  MMR017  \n",
       "1                               17.9  MMR111  \n",
       "2                               20.6  MMR004  \n",
       "3                               23.6  MMR001  \n",
       "4                               19.7  MMR002  \n",
       "\n",
       "[5 rows x 49 columns]"
      ]
     },
     "execution_count": 127,
     "metadata": {},
     "output_type": "execute_result"
    }
   ],
   "source": [
    "df.head()"
   ]
  },
  {
   "cell_type": "code",
   "execution_count": 135,
   "metadata": {
    "collapsed": false
   },
   "outputs": [],
   "source": [
    "import copy\n",
    "import numpy as np\n",
    "import pandas as pd\n",
    "import geopandas as gpd\n",
    "\n",
    "region_boundaries = gpd.read_file(\"stateandregionboundaries.geojson\")\n",
    "\n",
    "region = pd.DataFrame(region_boundaries[['cartodb_id', 'geometry', 'st', 'st_pcode']].values)\n",
    "region.columns = ['cartodb_id', 'geometry', 'st', 'st_pcode']\n",
    "\n",
    "region_data = pd.read_csv('Household_living_conditions.csv')\n",
    "\n",
    "df_all = pd.merge(left=region_boundaries, right=region_data, left_on='st_pcode', right_on='Pcode')\n",
    "# df_all.to_csv('region_data.csv')"
   ]
  },
  {
   "cell_type": "code",
   "execution_count": 138,
   "metadata": {
    "collapsed": false
   },
   "outputs": [],
   "source": [
    "df_all = df_all.drop('Pcode', axis =1)"
   ]
  },
  {
   "cell_type": "code",
   "execution_count": 141,
   "metadata": {
    "collapsed": false
   },
   "outputs": [],
   "source": [
    "df_all.to_csv('regional_data.csv', index = False)"
   ]
  },
  {
   "cell_type": "code",
   "execution_count": null,
   "metadata": {
    "collapsed": true
   },
   "outputs": [],
   "source": []
  }
 ],
 "metadata": {
  "kernelspec": {
   "display_name": "Python [conda root]",
   "language": "python",
   "name": "conda-root-py"
  },
  "language_info": {
   "codemirror_mode": {
    "name": "ipython",
    "version": 2
   },
   "file_extension": ".py",
   "mimetype": "text/x-python",
   "name": "python",
   "nbconvert_exporter": "python",
   "pygments_lexer": "ipython2",
   "version": "2.7.13"
  }
 },
 "nbformat": 4,
 "nbformat_minor": 2
}
