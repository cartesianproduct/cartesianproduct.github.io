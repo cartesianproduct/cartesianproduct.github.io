{
 "cells": [
  {
   "cell_type": "code",
   "execution_count": 1,
   "metadata": {
    "collapsed": false
   },
   "outputs": [],
   "source": [
    "from PyPDF2 import PdfFileWriter, PdfFileReader\n",
    "import textract,re, pandas as pd"
   ]
  },
  {
   "cell_type": "code",
   "execution_count": 2,
   "metadata": {
    "collapsed": false
   },
   "outputs": [],
   "source": [
    "inputpdf = PdfFileReader(open(\"FA1MMRPovertyProfile_Eng.pdf.pdf\", \"rb\"))\n",
    "\n",
    "#for i in xrange(inputpdf.numPages):\n",
    "output = PdfFileWriter()\n",
    "output.addPage(inputpdf.getPage(i))\n",
    "with open(\"document-page%s.pdf\" % i, \"wb\") as outputStream:\n",
    "    output.write(outputStream)"
   ]
  },
  {
   "cell_type": "code",
   "execution_count": 3,
   "metadata": {
    "collapsed": false
   },
   "outputs": [],
   "source": [
    "def clean(text):\n",
    "    text = re.sub(r'[\\x00-\\x08\\x0b\\x0c\\x0e-\\x1f\\x7f-\\xff|\\n]', ' ', text.lower())\n",
    "    return text"
   ]
  },
  {
   "cell_type": "code",
   "execution_count": 15,
   "metadata": {
    "collapsed": false
   },
   "outputs": [],
   "source": [
    "data = pd.read_excel('data.xlsx')\n",
    "data = data.values"
   ]
  },
  {
   "cell_type": "code",
   "execution_count": 16,
   "metadata": {
    "collapsed": false
   },
   "outputs": [
    {
     "data": {
      "text/plain": [
       "[['kachin', '80.7', '92.9', '95.9', '87.0', '89.4', '83.9'],\n",
       " ['kayah', '77.3', '89.4', '91.8', '85.9', '88.0', '88.5'],\n",
       " ['kayin', '77.8', '77.2', '80.3', '76.7', '77.3', '55.4'],\n",
       " ['chin', '99.5', '99.4', '100.0', '99.3', '99.4', '77.0'],\n",
       " ['sagaing', '64.9', '74.2', '78.6', '71.8', '72.8', '59.9'],\n",
       " ['tanintharyi', '55.6', '56.7', '56.8', '56.2', '56.4', '53.5'],\n",
       " ['bago', '81.9', '81.2', '87.1', '80.4', '81.3', '65.8'],\n",
       " ['bago', '(e)', '92.2', '90.8', '99.7', '89.6', '91.1', '73.1'],\n",
       " ['bago', '(w)', '65.3', '69.8', '64.6', '69.6', '69.1', '55.8'],\n",
       " ['magwe', '64.4', '61.9', '85.3', '60.2', '62.6', '56.8'],\n",
       " ['mandalay', '67.7', '79.4', '88.2', '71.5', '76.3', '75.5'],\n",
       " ['mon', '65.2', '82.8', '82.1', '79.4', '79.9', '86.6'],\n",
       " ['rakhine', '42.6', '54.9', '73.7', '43.2', '49.5', '41.4'],\n",
       " ['yangon', '57.6', '80.3', '81.8', '61.0', '76.7', '86.1'],\n",
       " ['shan', '81.3', '84.0', '91.2', '80.6', '83.1', '65.1'],\n",
       " ['shan', '(s)', '83.3', '85.7', '88.3', '84.0', '85.1', '52.8'],\n",
       " ['shan', '(n)', '76.8', '79.2', '93.0', '74.3', '78.3', '74.4'],\n",
       " ['shan', '(e)', '89.9', '94.5', '96.8', '91.0', '92.4', '75.8'],\n",
       " ['ayeyarwaddy', '44.1', '44.9', '61.3', '41.5', '44.6', '36.1']]"
      ]
     },
     "execution_count": 16,
     "metadata": {},
     "output_type": "execute_result"
    }
   ],
   "source": [
    "l = [clean(data[i][0].strip()).encode('ascii', 'ignore').split() for i in range(0,len(data),2)]\n",
    "l"
   ]
  },
  {
   "cell_type": "code",
   "execution_count": 17,
   "metadata": {
    "collapsed": false
   },
   "outputs": [],
   "source": [
    "s = ''\n",
    "numbers = []\n",
    "final = []\n",
    "for j in l:\n",
    "    for i in j:\n",
    "        try:\n",
    "            numbers.append(float(i))\n",
    "        except:\n",
    "            s+=i\n",
    "\n",
    "    t = [s] + numbers\n",
    "    final.append(t)\n",
    "    s =''\n",
    "    numbers = []"
   ]
  },
  {
   "cell_type": "code",
   "execution_count": 18,
   "metadata": {
    "collapsed": false
   },
   "outputs": [
    {
     "data": {
      "text/plain": [
       "[['kachin', 80.7, 92.9, 95.9, 87.0, 89.4, 83.9],\n",
       " ['kayah', 77.3, 89.4, 91.8, 85.9, 88.0, 88.5],\n",
       " ['kayin', 77.8, 77.2, 80.3, 76.7, 77.3, 55.4],\n",
       " ['chin', 99.5, 99.4, 100.0, 99.3, 99.4, 77.0],\n",
       " ['sagaing', 64.9, 74.2, 78.6, 71.8, 72.8, 59.9],\n",
       " ['tanintharyi', 55.6, 56.7, 56.8, 56.2, 56.4, 53.5],\n",
       " ['bago', 81.9, 81.2, 87.1, 80.4, 81.3, 65.8],\n",
       " ['bago(e)', 92.2, 90.8, 99.7, 89.6, 91.1, 73.1],\n",
       " ['bago(w)', 65.3, 69.8, 64.6, 69.6, 69.1, 55.8],\n",
       " ['magwe', 64.4, 61.9, 85.3, 60.2, 62.6, 56.8],\n",
       " ['mandalay', 67.7, 79.4, 88.2, 71.5, 76.3, 75.5],\n",
       " ['mon', 65.2, 82.8, 82.1, 79.4, 79.9, 86.6],\n",
       " ['rakhine', 42.6, 54.9, 73.7, 43.2, 49.5, 41.4],\n",
       " ['yangon', 57.6, 80.3, 81.8, 61.0, 76.7, 86.1],\n",
       " ['shan', 81.3, 84.0, 91.2, 80.6, 83.1, 65.1],\n",
       " ['shan(s)', 83.3, 85.7, 88.3, 84.0, 85.1, 52.8],\n",
       " ['shan(n)', 76.8, 79.2, 93.0, 74.3, 78.3, 74.4],\n",
       " ['shan(e)', 89.9, 94.5, 96.8, 91.0, 92.4, 75.8],\n",
       " ['ayeyarwaddy', 44.1, 44.9, 61.3, 41.5, 44.6, 36.1]]"
      ]
     },
     "execution_count": 18,
     "metadata": {},
     "output_type": "execute_result"
    }
   ],
   "source": [
    "final"
   ]
  },
  {
   "cell_type": "code",
   "execution_count": 19,
   "metadata": {
    "collapsed": false
   },
   "outputs": [],
   "source": [
    "names = [i[0] for i in final]\n",
    "poor = [i[1] for i in final]\n",
    "non_poor = [i[2] for i in final]\n",
    "urban = [i[3] for i in final]\n",
    "#total = [i[3] for i in final]\n",
    "rural = [i[4] for i in final]\n",
    "df = pd.DataFrame(columns=['Region'])\n",
    "df['Region'] = names\n",
    "df['Poor'] = poor\n",
    "df['Non_Poor'] = non_poor\n",
    "#df['Total'] = total    \n",
    "df['Urban'] = urban\n",
    "df['Rural'] = rural"
   ]
  },
  {
   "cell_type": "code",
   "execution_count": 20,
   "metadata": {
    "collapsed": false
   },
   "outputs": [
    {
     "data": {
      "text/html": [
       "<div>\n",
       "<table border=\"1\" class=\"dataframe\">\n",
       "  <thead>\n",
       "    <tr style=\"text-align: right;\">\n",
       "      <th></th>\n",
       "      <th>Region</th>\n",
       "      <th>Poor</th>\n",
       "      <th>Non_Poor</th>\n",
       "      <th>Urban</th>\n",
       "      <th>Rural</th>\n",
       "    </tr>\n",
       "  </thead>\n",
       "  <tbody>\n",
       "    <tr>\n",
       "      <th>0</th>\n",
       "      <td>kachin</td>\n",
       "      <td>80.7</td>\n",
       "      <td>92.9</td>\n",
       "      <td>95.9</td>\n",
       "      <td>87.0</td>\n",
       "    </tr>\n",
       "    <tr>\n",
       "      <th>1</th>\n",
       "      <td>kayah</td>\n",
       "      <td>77.3</td>\n",
       "      <td>89.4</td>\n",
       "      <td>91.8</td>\n",
       "      <td>85.9</td>\n",
       "    </tr>\n",
       "    <tr>\n",
       "      <th>2</th>\n",
       "      <td>kayin</td>\n",
       "      <td>77.8</td>\n",
       "      <td>77.2</td>\n",
       "      <td>80.3</td>\n",
       "      <td>76.7</td>\n",
       "    </tr>\n",
       "    <tr>\n",
       "      <th>3</th>\n",
       "      <td>chin</td>\n",
       "      <td>99.5</td>\n",
       "      <td>99.4</td>\n",
       "      <td>100.0</td>\n",
       "      <td>99.3</td>\n",
       "    </tr>\n",
       "    <tr>\n",
       "      <th>4</th>\n",
       "      <td>sagaing</td>\n",
       "      <td>64.9</td>\n",
       "      <td>74.2</td>\n",
       "      <td>78.6</td>\n",
       "      <td>71.8</td>\n",
       "    </tr>\n",
       "    <tr>\n",
       "      <th>5</th>\n",
       "      <td>tanintharyi</td>\n",
       "      <td>55.6</td>\n",
       "      <td>56.7</td>\n",
       "      <td>56.8</td>\n",
       "      <td>56.2</td>\n",
       "    </tr>\n",
       "    <tr>\n",
       "      <th>6</th>\n",
       "      <td>bago</td>\n",
       "      <td>81.9</td>\n",
       "      <td>81.2</td>\n",
       "      <td>87.1</td>\n",
       "      <td>80.4</td>\n",
       "    </tr>\n",
       "    <tr>\n",
       "      <th>7</th>\n",
       "      <td>bago(e)</td>\n",
       "      <td>92.2</td>\n",
       "      <td>90.8</td>\n",
       "      <td>99.7</td>\n",
       "      <td>89.6</td>\n",
       "    </tr>\n",
       "    <tr>\n",
       "      <th>8</th>\n",
       "      <td>bago(w)</td>\n",
       "      <td>65.3</td>\n",
       "      <td>69.8</td>\n",
       "      <td>64.6</td>\n",
       "      <td>69.6</td>\n",
       "    </tr>\n",
       "    <tr>\n",
       "      <th>9</th>\n",
       "      <td>magwe</td>\n",
       "      <td>64.4</td>\n",
       "      <td>61.9</td>\n",
       "      <td>85.3</td>\n",
       "      <td>60.2</td>\n",
       "    </tr>\n",
       "    <tr>\n",
       "      <th>10</th>\n",
       "      <td>mandalay</td>\n",
       "      <td>67.7</td>\n",
       "      <td>79.4</td>\n",
       "      <td>88.2</td>\n",
       "      <td>71.5</td>\n",
       "    </tr>\n",
       "    <tr>\n",
       "      <th>11</th>\n",
       "      <td>mon</td>\n",
       "      <td>65.2</td>\n",
       "      <td>82.8</td>\n",
       "      <td>82.1</td>\n",
       "      <td>79.4</td>\n",
       "    </tr>\n",
       "    <tr>\n",
       "      <th>12</th>\n",
       "      <td>rakhine</td>\n",
       "      <td>42.6</td>\n",
       "      <td>54.9</td>\n",
       "      <td>73.7</td>\n",
       "      <td>43.2</td>\n",
       "    </tr>\n",
       "    <tr>\n",
       "      <th>13</th>\n",
       "      <td>yangon</td>\n",
       "      <td>57.6</td>\n",
       "      <td>80.3</td>\n",
       "      <td>81.8</td>\n",
       "      <td>61.0</td>\n",
       "    </tr>\n",
       "    <tr>\n",
       "      <th>14</th>\n",
       "      <td>shan</td>\n",
       "      <td>81.3</td>\n",
       "      <td>84.0</td>\n",
       "      <td>91.2</td>\n",
       "      <td>80.6</td>\n",
       "    </tr>\n",
       "    <tr>\n",
       "      <th>15</th>\n",
       "      <td>shan(s)</td>\n",
       "      <td>83.3</td>\n",
       "      <td>85.7</td>\n",
       "      <td>88.3</td>\n",
       "      <td>84.0</td>\n",
       "    </tr>\n",
       "    <tr>\n",
       "      <th>16</th>\n",
       "      <td>shan(n)</td>\n",
       "      <td>76.8</td>\n",
       "      <td>79.2</td>\n",
       "      <td>93.0</td>\n",
       "      <td>74.3</td>\n",
       "    </tr>\n",
       "    <tr>\n",
       "      <th>17</th>\n",
       "      <td>shan(e)</td>\n",
       "      <td>89.9</td>\n",
       "      <td>94.5</td>\n",
       "      <td>96.8</td>\n",
       "      <td>91.0</td>\n",
       "    </tr>\n",
       "    <tr>\n",
       "      <th>18</th>\n",
       "      <td>ayeyarwaddy</td>\n",
       "      <td>44.1</td>\n",
       "      <td>44.9</td>\n",
       "      <td>61.3</td>\n",
       "      <td>41.5</td>\n",
       "    </tr>\n",
       "  </tbody>\n",
       "</table>\n",
       "</div>"
      ],
      "text/plain": [
       "         Region  Poor  Non_Poor  Urban  Rural\n",
       "0        kachin  80.7      92.9   95.9   87.0\n",
       "1         kayah  77.3      89.4   91.8   85.9\n",
       "2         kayin  77.8      77.2   80.3   76.7\n",
       "3          chin  99.5      99.4  100.0   99.3\n",
       "4       sagaing  64.9      74.2   78.6   71.8\n",
       "5   tanintharyi  55.6      56.7   56.8   56.2\n",
       "6          bago  81.9      81.2   87.1   80.4\n",
       "7       bago(e)  92.2      90.8   99.7   89.6\n",
       "8       bago(w)  65.3      69.8   64.6   69.6\n",
       "9         magwe  64.4      61.9   85.3   60.2\n",
       "10     mandalay  67.7      79.4   88.2   71.5\n",
       "11          mon  65.2      82.8   82.1   79.4\n",
       "12      rakhine  42.6      54.9   73.7   43.2\n",
       "13       yangon  57.6      80.3   81.8   61.0\n",
       "14         shan  81.3      84.0   91.2   80.6\n",
       "15      shan(s)  83.3      85.7   88.3   84.0\n",
       "16      shan(n)  76.8      79.2   93.0   74.3\n",
       "17      shan(e)  89.9      94.5   96.8   91.0\n",
       "18  ayeyarwaddy  44.1      44.9   61.3   41.5"
      ]
     },
     "execution_count": 20,
     "metadata": {},
     "output_type": "execute_result"
    }
   ],
   "source": [
    "df"
   ]
  },
  {
   "cell_type": "code",
   "execution_count": 21,
   "metadata": {
    "collapsed": false
   },
   "outputs": [],
   "source": [
    "df.to_csv('access_to_safe_drinking_water.csv')"
   ]
  },
  {
   "cell_type": "code",
   "execution_count": null,
   "metadata": {
    "collapsed": true
   },
   "outputs": [],
   "source": [
    "#http://stackoverflow.com/questions/490195/split-a-multi-page-pdf-file-into-multiple-pdf-files-with-python"
   ]
  }
 ],
 "metadata": {
  "anaconda-cloud": {},
  "kernelspec": {
   "display_name": "Python [default]",
   "language": "python",
   "name": "python2"
  },
  "language_info": {
   "codemirror_mode": {
    "name": "ipython",
    "version": 2
   },
   "file_extension": ".py",
   "mimetype": "text/x-python",
   "name": "python",
   "nbconvert_exporter": "python",
   "pygments_lexer": "ipython2",
   "version": "2.7.12"
  }
 },
 "nbformat": 4,
 "nbformat_minor": 1
}
