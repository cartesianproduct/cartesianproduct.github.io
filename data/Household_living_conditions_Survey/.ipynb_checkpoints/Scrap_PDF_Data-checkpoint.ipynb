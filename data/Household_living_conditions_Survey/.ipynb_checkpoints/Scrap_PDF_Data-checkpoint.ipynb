{
 "cells": [
  {
   "cell_type": "code",
   "execution_count": 1,
   "metadata": {
    "collapsed": false
   },
   "outputs": [],
   "source": [
    "from PyPDF2 import PdfFileWriter, PdfFileReader\n",
    "import textract,re, pandas as pd"
   ]
  },
  {
   "cell_type": "code",
   "execution_count": 2,
   "metadata": {
    "collapsed": false
   },
   "outputs": [],
   "source": [
    "# inputpdf = PdfFileReader(open(\"FA1MMRPovertyProfile_Eng.pdf\", \"rb\"))\n",
    "\n",
    "# i = 57\n",
    "# #for i in xrange(inputpdf.numPages):\n",
    "# output = PdfFileWriter()\n",
    "# output.addPage(inputpdf.getPage(i))\n",
    "# with open(\"document-page%s.pdf\" % i, \"wb\") as outputStream:\n",
    "#     output.write(outputStream)"
   ]
  },
  {
   "cell_type": "code",
   "execution_count": 27,
   "metadata": {
    "collapsed": false
   },
   "outputs": [],
   "source": [
    "def clean(text):\n",
    "    text = re.sub(r'[\\x00-\\x08\\x0b\\x0c\\x0e-\\x1f\\x7f-\\xff|\\n]', ' ', text.lower())\n",
    "    return text"
   ]
  },
  {
   "cell_type": "code",
   "execution_count": 28,
   "metadata": {
    "collapsed": false
   },
   "outputs": [],
   "source": [
    "data = pd.read_excel('data.xlsx')\n",
    "data = data.values"
   ]
  },
  {
   "cell_type": "code",
   "execution_count": 29,
   "metadata": {
    "collapsed": false
   },
   "outputs": [
    {
     "data": {
      "text/plain": [
       "[['kachin', '27.9', '24.0', '36.7', '20.9', '25.0', '22.8'],\n",
       " ['kayah', '23.2', '17.8', '27.1', '12.6', '18.2', '18.3'],\n",
       " ['kayin', '24.5', '21.5', '24.8', '21.3', '21.9', '18.9'],\n",
       " ['chin', '13.6', '16.4', '7.8', '16.9', '14.6', '10.4'],\n",
       " ['sagaing', '22.3', '21.2', '25.2', '20.7', '21.3', '17.3'],\n",
       " ['tanintharyi', '24.5', '20.5', '18.5', '22.5', '21.6', '20.2'],\n",
       " ['bago', '19.9', '21.8', '27.9', '20.5', '21.5', '18.2'],\n",
       " ['-', 'bago', '(e)', '24.7', '26.7', '34.8', '24.8', '26.4', '21.0'],\n",
       " ['-', 'bago', '(w)', '14.0', '16.8', '18.1', '16.2', '16.4', '15.3'],\n",
       " ['magwe', '20.1', '21.8', '28.5', '20.6', '21.4', '20.8'],\n",
       " ['mandalay', '18.3', '23.7', '27.3', '20.6', '22.5', '20.9'],\n",
       " ['mon', '19.6', '16.1', '21.5', '15.5', '16.6', '17.3'],\n",
       " ['rakhine', '18.8', '20.9', '22.6', '19.4', '20.1', '19.5'],\n",
       " ['yangon', '19.0', '26.1', '28.4', '16.1', '25.2', '24.4'],\n",
       " ['shan', '13.0', '19.2', '27.8', '14.0', '17.4', '14.3'],\n",
       " ['-', 'shan', '(s)', '7.1', '16.4', '22.1', '11.5', '14.6', '11.1'],\n",
       " ['-', 'shan', '(n)', '17.3', '24.0', '37.0', '17.8', '21.7', '18.0'],\n",
       " ['-', 'shan', '(e)', '10.6', '13.8', '26.5', '8.5', '12.5', '12.8'],\n",
       " ['ayeyarwaddy', '16.4', '17.1', '21.8', '15.9', '16.9', '14.3']]"
      ]
     },
     "execution_count": 29,
     "metadata": {},
     "output_type": "execute_result"
    }
   ],
   "source": [
    "l = [clean(data[i][0].strip()).encode('ascii', 'ignore').split() for i in range(0,len(data),2)]\n",
    "l"
   ]
  },
  {
   "cell_type": "code",
   "execution_count": 30,
   "metadata": {
    "collapsed": false
   },
   "outputs": [],
   "source": [
    "s = ''\n",
    "numbers = []\n",
    "final = []\n",
    "for j in l:\n",
    "    for i in j:\n",
    "        try:\n",
    "            numbers.append(float(i))\n",
    "        except:\n",
    "            s+=i\n",
    "\n",
    "    t = [s] + numbers\n",
    "    final.append(t)\n",
    "    s =''\n",
    "    numbers = []"
   ]
  },
  {
   "cell_type": "code",
   "execution_count": 32,
   "metadata": {
    "collapsed": false
   },
   "outputs": [
    {
     "data": {
      "text/plain": [
       "[['kachin', 27.9, 24.0, 36.7, 20.9, 25.0, 22.8],\n",
       " ['kayah', 23.2, 17.8, 27.1, 12.6, 18.2, 18.3],\n",
       " ['kayin', 24.5, 21.5, 24.8, 21.3, 21.9, 18.9],\n",
       " ['chin', 13.6, 16.4, 7.8, 16.9, 14.6, 10.4],\n",
       " ['sagaing', 22.3, 21.2, 25.2, 20.7, 21.3, 17.3],\n",
       " ['tanintharyi', 24.5, 20.5, 18.5, 22.5, 21.6, 20.2],\n",
       " ['bago', 19.9, 21.8, 27.9, 20.5, 21.5, 18.2],\n",
       " ['-bago(e)', 24.7, 26.7, 34.8, 24.8, 26.4, 21.0],\n",
       " ['-bago(w)', 14.0, 16.8, 18.1, 16.2, 16.4, 15.3],\n",
       " ['magwe', 20.1, 21.8, 28.5, 20.6, 21.4, 20.8],\n",
       " ['mandalay', 18.3, 23.7, 27.3, 20.6, 22.5, 20.9],\n",
       " ['mon', 19.6, 16.1, 21.5, 15.5, 16.6, 17.3],\n",
       " ['rakhine', 18.8, 20.9, 22.6, 19.4, 20.1, 19.5],\n",
       " ['yangon', 19.0, 26.1, 28.4, 16.1, 25.2, 24.4],\n",
       " ['shan', 13.0, 19.2, 27.8, 14.0, 17.4, 14.3],\n",
       " ['-shan(s)', 7.1, 16.4, 22.1, 11.5, 14.6, 11.1],\n",
       " ['-shan(n)', 17.3, 24.0, 37.0, 17.8, 21.7, 18.0],\n",
       " ['-shan(e)', 10.6, 13.8, 26.5, 8.5, 12.5, 12.8],\n",
       " ['ayeyarwaddy', 16.4, 17.1, 21.8, 15.9, 16.9, 14.3]]"
      ]
     },
     "execution_count": 32,
     "metadata": {},
     "output_type": "execute_result"
    }
   ],
   "source": [
    "final"
   ]
  },
  {
   "cell_type": "code",
   "execution_count": 33,
   "metadata": {
    "collapsed": false
   },
   "outputs": [],
   "source": [
    "names = [i[0] for i in final]\n",
    "poor = [i[1] for i in final]\n",
    "non_poor = [i[2] for i in final]\n",
    "#urban = [i[2] for i in final]\n",
    "#total = [i[3] for i in final]\n",
    "#rural = [i[3] for i in final]\n",
    "df = pd.DataFrame(columns=['Region'])\n",
    "df['Region'] = names\n",
    "df['Poor'] = poor\n",
    "df['Non_Poor'] = non_poor\n",
    "#df['Descents'] = urban\n",
    "#df['Escapes'] = rural\n",
    "#df['Urban'] = urban\n",
    "#df['Rural'] = rural"
   ]
  },
  {
   "cell_type": "code",
   "execution_count": 34,
   "metadata": {
    "collapsed": false
   },
   "outputs": [
    {
     "data": {
      "text/html": [
       "<div>\n",
       "<table border=\"1\" class=\"dataframe\">\n",
       "  <thead>\n",
       "    <tr style=\"text-align: right;\">\n",
       "      <th></th>\n",
       "      <th>Region</th>\n",
       "      <th>Poor</th>\n",
       "      <th>Non_Poor</th>\n",
       "    </tr>\n",
       "  </thead>\n",
       "  <tbody>\n",
       "    <tr>\n",
       "      <th>0</th>\n",
       "      <td>kachin</td>\n",
       "      <td>27.9</td>\n",
       "      <td>24.0</td>\n",
       "    </tr>\n",
       "    <tr>\n",
       "      <th>1</th>\n",
       "      <td>kayah</td>\n",
       "      <td>23.2</td>\n",
       "      <td>17.8</td>\n",
       "    </tr>\n",
       "    <tr>\n",
       "      <th>2</th>\n",
       "      <td>kayin</td>\n",
       "      <td>24.5</td>\n",
       "      <td>21.5</td>\n",
       "    </tr>\n",
       "    <tr>\n",
       "      <th>3</th>\n",
       "      <td>chin</td>\n",
       "      <td>13.6</td>\n",
       "      <td>16.4</td>\n",
       "    </tr>\n",
       "    <tr>\n",
       "      <th>4</th>\n",
       "      <td>sagaing</td>\n",
       "      <td>22.3</td>\n",
       "      <td>21.2</td>\n",
       "    </tr>\n",
       "    <tr>\n",
       "      <th>5</th>\n",
       "      <td>tanintharyi</td>\n",
       "      <td>24.5</td>\n",
       "      <td>20.5</td>\n",
       "    </tr>\n",
       "    <tr>\n",
       "      <th>6</th>\n",
       "      <td>bago</td>\n",
       "      <td>19.9</td>\n",
       "      <td>21.8</td>\n",
       "    </tr>\n",
       "    <tr>\n",
       "      <th>7</th>\n",
       "      <td>-bago(e)</td>\n",
       "      <td>24.7</td>\n",
       "      <td>26.7</td>\n",
       "    </tr>\n",
       "    <tr>\n",
       "      <th>8</th>\n",
       "      <td>-bago(w)</td>\n",
       "      <td>14.0</td>\n",
       "      <td>16.8</td>\n",
       "    </tr>\n",
       "    <tr>\n",
       "      <th>9</th>\n",
       "      <td>magwe</td>\n",
       "      <td>20.1</td>\n",
       "      <td>21.8</td>\n",
       "    </tr>\n",
       "    <tr>\n",
       "      <th>10</th>\n",
       "      <td>mandalay</td>\n",
       "      <td>18.3</td>\n",
       "      <td>23.7</td>\n",
       "    </tr>\n",
       "    <tr>\n",
       "      <th>11</th>\n",
       "      <td>mon</td>\n",
       "      <td>19.6</td>\n",
       "      <td>16.1</td>\n",
       "    </tr>\n",
       "    <tr>\n",
       "      <th>12</th>\n",
       "      <td>rakhine</td>\n",
       "      <td>18.8</td>\n",
       "      <td>20.9</td>\n",
       "    </tr>\n",
       "    <tr>\n",
       "      <th>13</th>\n",
       "      <td>yangon</td>\n",
       "      <td>19.0</td>\n",
       "      <td>26.1</td>\n",
       "    </tr>\n",
       "    <tr>\n",
       "      <th>14</th>\n",
       "      <td>shan</td>\n",
       "      <td>13.0</td>\n",
       "      <td>19.2</td>\n",
       "    </tr>\n",
       "    <tr>\n",
       "      <th>15</th>\n",
       "      <td>-shan(s)</td>\n",
       "      <td>7.1</td>\n",
       "      <td>16.4</td>\n",
       "    </tr>\n",
       "    <tr>\n",
       "      <th>16</th>\n",
       "      <td>-shan(n)</td>\n",
       "      <td>17.3</td>\n",
       "      <td>24.0</td>\n",
       "    </tr>\n",
       "    <tr>\n",
       "      <th>17</th>\n",
       "      <td>-shan(e)</td>\n",
       "      <td>10.6</td>\n",
       "      <td>13.8</td>\n",
       "    </tr>\n",
       "    <tr>\n",
       "      <th>18</th>\n",
       "      <td>ayeyarwaddy</td>\n",
       "      <td>16.4</td>\n",
       "      <td>17.1</td>\n",
       "    </tr>\n",
       "  </tbody>\n",
       "</table>\n",
       "</div>"
      ],
      "text/plain": [
       "         Region  Poor  Non_Poor\n",
       "0        kachin  27.9      24.0\n",
       "1         kayah  23.2      17.8\n",
       "2         kayin  24.5      21.5\n",
       "3          chin  13.6      16.4\n",
       "4       sagaing  22.3      21.2\n",
       "5   tanintharyi  24.5      20.5\n",
       "6          bago  19.9      21.8\n",
       "7      -bago(e)  24.7      26.7\n",
       "8      -bago(w)  14.0      16.8\n",
       "9         magwe  20.1      21.8\n",
       "10     mandalay  18.3      23.7\n",
       "11          mon  19.6      16.1\n",
       "12      rakhine  18.8      20.9\n",
       "13       yangon  19.0      26.1\n",
       "14         shan  13.0      19.2\n",
       "15     -shan(s)   7.1      16.4\n",
       "16     -shan(n)  17.3      24.0\n",
       "17     -shan(e)  10.6      13.8\n",
       "18  ayeyarwaddy  16.4      17.1"
      ]
     },
     "execution_count": 34,
     "metadata": {},
     "output_type": "execute_result"
    }
   ],
   "source": [
    "df"
   ]
  },
  {
   "cell_type": "code",
   "execution_count": 35,
   "metadata": {
    "collapsed": false
   },
   "outputs": [],
   "source": [
    "df.to_csv('female-headed_households.csv')"
   ]
  },
  {
   "cell_type": "code",
   "execution_count": null,
   "metadata": {
    "collapsed": true
   },
   "outputs": [],
   "source": [
    "#http://stackoverflow.com/questions/490195/split-a-multi-page-pdf-file-into-multiple-pdf-files-with-python"
   ]
  }
 ],
 "metadata": {
  "anaconda-cloud": {},
  "kernelspec": {
   "display_name": "Python [default]",
   "language": "python",
   "name": "python2"
  },
  "language_info": {
   "codemirror_mode": {
    "name": "ipython",
    "version": 2
   },
   "file_extension": ".py",
   "mimetype": "text/x-python",
   "name": "python",
   "nbconvert_exporter": "python",
   "pygments_lexer": "ipython2",
   "version": "2.7.12"
  }
 },
 "nbformat": 4,
 "nbformat_minor": 1
}
