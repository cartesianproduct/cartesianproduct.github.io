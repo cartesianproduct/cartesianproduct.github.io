{
 "cells": [
  {
   "cell_type": "code",
   "execution_count": 19,
   "metadata": {
    "collapsed": false
   },
   "outputs": [],
   "source": [
    "from PyPDF2 import PdfFileWriter, PdfFileReader\n",
    "import textract,re, pandas as pd"
   ]
  },
  {
   "cell_type": "code",
   "execution_count": 12,
   "metadata": {
    "collapsed": false
   },
   "outputs": [],
   "source": [
    "# inputpdf = PdfFileReader(open(\"data.pdf\", \"rb\"))\n",
    "\n",
    "# for i in xrange(inputpdf.numPages):\n",
    "#     output = PdfFileWriter()\n",
    "#     output.addPage(inputpdf.getPage(i))\n",
    "#     with open(\"document-page%s.pdf\" % i, \"wb\") as outputStream:\n",
    "#         output.write(outputStream)"
   ]
  },
  {
   "cell_type": "code",
   "execution_count": 96,
   "metadata": {
    "collapsed": false
   },
   "outputs": [],
   "source": [
    "def clean(text):\n",
    "    text = re.sub(r'[\\x00-\\x08\\x0b\\x0c\\x0e-\\x1f\\x7f-\\xff|\\n]', ' ', text.lower())\n",
    "    return text"
   ]
  },
  {
   "cell_type": "code",
   "execution_count": 112,
   "metadata": {
    "collapsed": false
   },
   "outputs": [],
   "source": [
    "data = pd.read_excel('data.xlsx')\n",
    "data = data.values"
   ]
  },
  {
   "cell_type": "code",
   "execution_count": 113,
   "metadata": {
    "collapsed": false
   },
   "outputs": [
    {
     "data": {
      "text/plain": [
       "[['kachin', '36.1', '67.8', '59.9', '25.6', '54.7', '43.0'],\n",
       " ['kayah', '45.9', '79.1', '76.3', '50.5', '56.5', '54.8'],\n",
       " ['kayin', '71.4', '68.3', '68.7', '26.6', '57.6', '54.6'],\n",
       " ['chin', '83.2', '77.7', '81.4', '73.0', '86.9', '77.4'],\n",
       " ['sagaing', '24.0', '47.7', '44.7', '19.5', '40.7', '35.9'],\n",
       " ['tanintharyi', '11.0', '35.6', '28.6', '4.9', '23.5', '18.2'],\n",
       " ['bago', '22.6', '48.3', '44.4', '18.5', '40.9', '35.0'],\n",
       " ['-', 'bago', '(e)', '27.4', '43.1', '40.6', '18.0', '36.5', '31.7'],\n",
       " ['-', 'bago', '(w)', '16.7', '53.6', '48.5', '19.0', '45.6', '38.5'],\n",
       " ['magwe', '10.6', '43.2', '35.7', '13.5', '26.5', '21.6'],\n",
       " ['mandalay', '39.8', '62.0', '57.0', '30.9', '52.3', '45.0'],\n",
       " ['mon', '37.9', '66.2', '62.3', '36.4', '52.8', '50.0'],\n",
       " ['rakhine', '5.0', '28.1', '19.6', '9.9', '19.6', '16.4'],\n",
       " ['yangon', '57.3', '89.6', '85.5', '50.9', '83.5', '79.5'],\n",
       " ['shan', '73.2', '77.2', '76.1', '58.4', '73.5', '67.3'],\n",
       " ['-', 'shan', '(s)', '66.0', '73.3', '71.8', '54.5', '73.1', '66.9'],\n",
       " ['-', 'shan', '(n)', '76.4', '80.6', '79.1', '61.0', '70.8', '66.2'],\n",
       " ['-', 'shan', '(e)', '76.6', '83.5', '80.8', '59.5', '83.8', '72.6'],\n",
       " ['ayeyarwady', '19.0', '46.5', '39.0', '20.5', '40.2', '35.1']]"
      ]
     },
     "execution_count": 113,
     "metadata": {},
     "output_type": "execute_result"
    }
   ],
   "source": [
    "l = [clean(data[i][0].strip()).encode('ascii', 'ignore').split() for i in range(0,len(data),2)]\n",
    "l"
   ]
  },
  {
   "cell_type": "code",
   "execution_count": 114,
   "metadata": {
    "collapsed": false
   },
   "outputs": [],
   "source": [
    "s = ''\n",
    "numbers = []\n",
    "final = []\n",
    "for j in l:\n",
    "    for i in j:\n",
    "        try:\n",
    "            numbers.append(float(i))\n",
    "        except:\n",
    "            s+=i\n",
    "\n",
    "    t = [s] + numbers\n",
    "    final.append(t)\n",
    "    s =''\n",
    "    numbers = []"
   ]
  },
  {
   "cell_type": "code",
   "execution_count": 116,
   "metadata": {
    "collapsed": false
   },
   "outputs": [
    {
     "data": {
      "text/plain": [
       "[['kachin', 36.1, 67.8, 59.9, 25.6, 54.7, 43.0],\n",
       " ['kayah', 45.9, 79.1, 76.3, 50.5, 56.5, 54.8],\n",
       " ['kayin', 71.4, 68.3, 68.7, 26.6, 57.6, 54.6],\n",
       " ['chin', 83.2, 77.7, 81.4, 73.0, 86.9, 77.4],\n",
       " ['sagaing', 24.0, 47.7, 44.7, 19.5, 40.7, 35.9],\n",
       " ['tanintharyi', 11.0, 35.6, 28.6, 4.9, 23.5, 18.2],\n",
       " ['bago', 22.6, 48.3, 44.4, 18.5, 40.9, 35.0],\n",
       " ['-bago(e)', 27.4, 43.1, 40.6, 18.0, 36.5, 31.7],\n",
       " ['-bago(w)', 16.7, 53.6, 48.5, 19.0, 45.6, 38.5],\n",
       " ['magwe', 10.6, 43.2, 35.7, 13.5, 26.5, 21.6],\n",
       " ['mandalay', 39.8, 62.0, 57.0, 30.9, 52.3, 45.0],\n",
       " ['mon', 37.9, 66.2, 62.3, 36.4, 52.8, 50.0],\n",
       " ['rakhine', 5.0, 28.1, 19.6, 9.9, 19.6, 16.4],\n",
       " ['yangon', 57.3, 89.6, 85.5, 50.9, 83.5, 79.5],\n",
       " ['shan', 73.2, 77.2, 76.1, 58.4, 73.5, 67.3],\n",
       " ['-shan(s)', 66.0, 73.3, 71.8, 54.5, 73.1, 66.9],\n",
       " ['-shan(n)', 76.4, 80.6, 79.1, 61.0, 70.8, 66.2],\n",
       " ['-shan(e)', 76.6, 83.5, 80.8, 59.5, 83.8, 72.6],\n",
       " ['ayeyarwady', 19.0, 46.5, 39.0, 20.5, 40.2, 35.1]]"
      ]
     },
     "execution_count": 116,
     "metadata": {},
     "output_type": "execute_result"
    }
   ],
   "source": [
    "final"
   ]
  },
  {
   "cell_type": "code",
   "execution_count": 118,
   "metadata": {
    "collapsed": false
   },
   "outputs": [],
   "source": [
    "names = [i[0] for i in final]\n",
    "poor = [i[1] for i in final]\n",
    "non_poor = [i[2] for i in final]\n",
    "# urban = [i[3] for i in final]\n",
    "total = [i[3] for i in final]\n",
    "# rural = [i[4] for i in final]\n",
    "df = pd.DataFrame(columns=['Region'])\n",
    "df['Region'] = names\n",
    "df['Poor'] = poor\n",
    "df['Non_Poor'] = non_poor\n",
    "df['Total'] = total    \n",
    "# df['Urban'] = urban\n",
    "# df['Rural'] = rural"
   ]
  },
  {
   "cell_type": "code",
   "execution_count": 119,
   "metadata": {
    "collapsed": false
   },
   "outputs": [
    {
     "data": {
      "text/html": [
       "<div>\n",
       "<table border=\"1\" class=\"dataframe\">\n",
       "  <thead>\n",
       "    <tr style=\"text-align: right;\">\n",
       "      <th></th>\n",
       "      <th>Region</th>\n",
       "      <th>Poor</th>\n",
       "      <th>Non_Poor</th>\n",
       "      <th>Total</th>\n",
       "    </tr>\n",
       "  </thead>\n",
       "  <tbody>\n",
       "    <tr>\n",
       "      <th>0</th>\n",
       "      <td>kachin</td>\n",
       "      <td>36.1</td>\n",
       "      <td>67.8</td>\n",
       "      <td>59.9</td>\n",
       "    </tr>\n",
       "    <tr>\n",
       "      <th>1</th>\n",
       "      <td>kayah</td>\n",
       "      <td>45.9</td>\n",
       "      <td>79.1</td>\n",
       "      <td>76.3</td>\n",
       "    </tr>\n",
       "    <tr>\n",
       "      <th>2</th>\n",
       "      <td>kayin</td>\n",
       "      <td>71.4</td>\n",
       "      <td>68.3</td>\n",
       "      <td>68.7</td>\n",
       "    </tr>\n",
       "    <tr>\n",
       "      <th>3</th>\n",
       "      <td>chin</td>\n",
       "      <td>83.2</td>\n",
       "      <td>77.7</td>\n",
       "      <td>81.4</td>\n",
       "    </tr>\n",
       "    <tr>\n",
       "      <th>4</th>\n",
       "      <td>sagaing</td>\n",
       "      <td>24.0</td>\n",
       "      <td>47.7</td>\n",
       "      <td>44.7</td>\n",
       "    </tr>\n",
       "    <tr>\n",
       "      <th>5</th>\n",
       "      <td>tanintharyi</td>\n",
       "      <td>11.0</td>\n",
       "      <td>35.6</td>\n",
       "      <td>28.6</td>\n",
       "    </tr>\n",
       "    <tr>\n",
       "      <th>6</th>\n",
       "      <td>bago</td>\n",
       "      <td>22.6</td>\n",
       "      <td>48.3</td>\n",
       "      <td>44.4</td>\n",
       "    </tr>\n",
       "    <tr>\n",
       "      <th>7</th>\n",
       "      <td>-bago(e)</td>\n",
       "      <td>27.4</td>\n",
       "      <td>43.1</td>\n",
       "      <td>40.6</td>\n",
       "    </tr>\n",
       "    <tr>\n",
       "      <th>8</th>\n",
       "      <td>-bago(w)</td>\n",
       "      <td>16.7</td>\n",
       "      <td>53.6</td>\n",
       "      <td>48.5</td>\n",
       "    </tr>\n",
       "    <tr>\n",
       "      <th>9</th>\n",
       "      <td>magwe</td>\n",
       "      <td>10.6</td>\n",
       "      <td>43.2</td>\n",
       "      <td>35.7</td>\n",
       "    </tr>\n",
       "    <tr>\n",
       "      <th>10</th>\n",
       "      <td>mandalay</td>\n",
       "      <td>39.8</td>\n",
       "      <td>62.0</td>\n",
       "      <td>57.0</td>\n",
       "    </tr>\n",
       "    <tr>\n",
       "      <th>11</th>\n",
       "      <td>mon</td>\n",
       "      <td>37.9</td>\n",
       "      <td>66.2</td>\n",
       "      <td>62.3</td>\n",
       "    </tr>\n",
       "    <tr>\n",
       "      <th>12</th>\n",
       "      <td>rakhine</td>\n",
       "      <td>5.0</td>\n",
       "      <td>28.1</td>\n",
       "      <td>19.6</td>\n",
       "    </tr>\n",
       "    <tr>\n",
       "      <th>13</th>\n",
       "      <td>yangon</td>\n",
       "      <td>57.3</td>\n",
       "      <td>89.6</td>\n",
       "      <td>85.5</td>\n",
       "    </tr>\n",
       "    <tr>\n",
       "      <th>14</th>\n",
       "      <td>shan</td>\n",
       "      <td>73.2</td>\n",
       "      <td>77.2</td>\n",
       "      <td>76.1</td>\n",
       "    </tr>\n",
       "    <tr>\n",
       "      <th>15</th>\n",
       "      <td>-shan(s)</td>\n",
       "      <td>66.0</td>\n",
       "      <td>73.3</td>\n",
       "      <td>71.8</td>\n",
       "    </tr>\n",
       "    <tr>\n",
       "      <th>16</th>\n",
       "      <td>-shan(n)</td>\n",
       "      <td>76.4</td>\n",
       "      <td>80.6</td>\n",
       "      <td>79.1</td>\n",
       "    </tr>\n",
       "    <tr>\n",
       "      <th>17</th>\n",
       "      <td>-shan(e)</td>\n",
       "      <td>76.6</td>\n",
       "      <td>83.5</td>\n",
       "      <td>80.8</td>\n",
       "    </tr>\n",
       "    <tr>\n",
       "      <th>18</th>\n",
       "      <td>ayeyarwady</td>\n",
       "      <td>19.0</td>\n",
       "      <td>46.5</td>\n",
       "      <td>39.0</td>\n",
       "    </tr>\n",
       "  </tbody>\n",
       "</table>\n",
       "</div>"
      ],
      "text/plain": [
       "         Region  Poor  Non_Poor  Total\n",
       "0        kachin  36.1      67.8   59.9\n",
       "1         kayah  45.9      79.1   76.3\n",
       "2         kayin  71.4      68.3   68.7\n",
       "3          chin  83.2      77.7   81.4\n",
       "4       sagaing  24.0      47.7   44.7\n",
       "5   tanintharyi  11.0      35.6   28.6\n",
       "6          bago  22.6      48.3   44.4\n",
       "7      -bago(e)  27.4      43.1   40.6\n",
       "8      -bago(w)  16.7      53.6   48.5\n",
       "9         magwe  10.6      43.2   35.7\n",
       "10     mandalay  39.8      62.0   57.0\n",
       "11          mon  37.9      66.2   62.3\n",
       "12      rakhine   5.0      28.1   19.6\n",
       "13       yangon  57.3      89.6   85.5\n",
       "14         shan  73.2      77.2   76.1\n",
       "15     -shan(s)  66.0      73.3   71.8\n",
       "16     -shan(n)  76.4      80.6   79.1\n",
       "17     -shan(e)  76.6      83.5   80.8\n",
       "18   ayeyarwady  19.0      46.5   39.0"
      ]
     },
     "execution_count": 119,
     "metadata": {},
     "output_type": "execute_result"
    }
   ],
   "source": [
    "df"
   ]
  },
  {
   "cell_type": "code",
   "execution_count": 121,
   "metadata": {
    "collapsed": false
   },
   "outputs": [],
   "source": [
    "#df.to_csv('access_to_quality_roofing.csv')"
   ]
  },
  {
   "cell_type": "code",
   "execution_count": null,
   "metadata": {
    "collapsed": true
   },
   "outputs": [],
   "source": [
    "#http://stackoverflow.com/questions/490195/split-a-multi-page-pdf-file-into-multiple-pdf-files-with-python"
   ]
  }
 ],
 "metadata": {
  "kernelspec": {
   "display_name": "Python [default]",
   "language": "python",
   "name": "python2"
  },
  "language_info": {
   "codemirror_mode": {
    "name": "ipython",
    "version": 2
   },
   "file_extension": ".py",
   "mimetype": "text/x-python",
   "name": "python",
   "nbconvert_exporter": "python",
   "pygments_lexer": "ipython2",
   "version": "2.7.12"
  }
 },
 "nbformat": 4,
 "nbformat_minor": 1
}
