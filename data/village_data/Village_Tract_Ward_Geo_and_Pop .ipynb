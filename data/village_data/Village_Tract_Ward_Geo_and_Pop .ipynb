{
 "cells": [
  {
   "cell_type": "markdown",
   "metadata": {},
   "source": [
    "# Table of Contents\n",
    "* [Introduction: How Regional Administration Works in Myanmar](#Introduction:-How-Regional-Administration-Works-in-Myanmar)\n",
    "* [Load Data](#Load-Data)\n",
    "* [Master Merge](#Master-Merge)\n"
   ]
  },
  {
   "cell_type": "markdown",
   "metadata": {},
   "source": [
    "# Introduction: How Regional Administration Works in Myanmar\n",
    "\n"
   ]
  },
  {
   "cell_type": "markdown",
   "metadata": {},
   "source": [
    "![Imgur](http://i.imgur.com/XpYZYAb.png)"
   ]
  },
  {
   "cell_type": "markdown",
   "metadata": {},
   "source": [
    "From high-level to more granular administrative divisions of the country (titles link to Wiki articles): \n",
    "\n",
    "- **Administrative Divisions**: 7 states and 7 divisions, along with 7 other kinds of territory (self-administered zones). \n",
    "- **District**: State, Regions, and Union Territories have districts. There are 67 total districts in Myanmar. \n",
    "- **Township**: Districts and self-administered zones have townships. There are around 330 townships in Myanmar. \n",
    "- **Towns**: Not mentioned on Wikipedia but townships include towns that are composed of wards.\n",
    "- **Ward and Village Tracts**: Subdivisions of Townships. Wards are pieces urban areas (basically neighborhoods, I imagine), rural areas are Village Tracts. There are about 3,183 wards in Myanmar. There are 13,602 Village Tracts. \n",
    "- **Village**: A subdivision of Village Tracts. There are 70,838 villages. Wards do not have Villages. "
   ]
  },
  {
   "cell_type": "markdown",
   "metadata": {},
   "source": [
    "![Imgur](http://i.imgur.com/uTCJbJY.png)\n"
   ]
  },
  {
   "cell_type": "markdown",
   "metadata": {},
   "source": [
    "This notebook obtains coordinate data for 13974 Village Tracts and 3170 Wards, and of those population data for 13064 Village Tracts and 3011 Wards. \n"
   ]
  },
  {
   "cell_type": "markdown",
   "metadata": {},
   "source": [
    "# Load Data"
   ]
  },
  {
   "cell_type": "code",
   "execution_count": 1,
   "metadata": {
    "collapsed": false
   },
   "outputs": [
    {
     "name": "stdout",
     "output_type": "stream",
     "text": [
      "Village Tract and Ward Geo and Population Data .ipynb\r\n",
      "Village_Ward_Geo.ipynb\r\n",
      "Myanmar PCodes Release-VIII_Aug2015 (Villages).xlsx\r\n",
      "~$Myanmar PCodes Release-VIII_Aug2015 (Villages).xlsx\r\n",
      "~$Myanmar PCodes Release-VIII_Aug2015 (StRgn_Dist_Tsp_Town_Ward_VT).xlsx\r\n",
      "districts.txt\r\n",
      "VT_Ward_geo.csv\r\n",
      "geo_df.p\r\n",
      "VT_geo.csv\r\n",
      "wards_geo.csv\r\n",
      "BaselineData_Census_VTWard_with_Pcode_MIMU_09Sep2015_MMR.xlsx\r\n",
      "Myanmar PCodes Release-VIII_Aug2015 (StRgn_Dist_Tsp_Town_Ward_VT).xlsx\r\n"
     ]
    }
   ],
   "source": [
    "!ls -t"
   ]
  },
  {
   "cell_type": "markdown",
   "metadata": {},
   "source": [
    "**Data Descriptions:**\n",
    "Together, these datasets give the geolocations of Wards and Village Tracts\n",
    "\n",
    "- `Myanmar PCodes Release-VIII_Aug2015 (StRgn_Dist_Tsp_Town_Ward_VT).xlsx`: Excel sheet with lat/long of *towns*, which are essentially the lat/long for wards. \n",
    "- `Myanmar PCodes Release-VIII_Aug2015 (Villages).xlsx`: Excel Sheet with lat/long of Village Tracts \n",
    "- `BaselineData_Census_VTWard_with_Pcode_MIMU_09Sep2015_MMR.xlsx`: Excel Sheet with Ward and Village Tract populations (Found from here: https://data.humdata.org/dataset/myanmar-population-census-2014) \n",
    "\n",
    "\n"
   ]
  },
  {
   "cell_type": "code",
   "execution_count": 3,
   "metadata": {
    "collapsed": false
   },
   "outputs": [],
   "source": [
    "towns_df = pd.read_excel('Myanmar PCodes Release-VIII_Aug2015 (StRgn_Dist_Tsp_Town_Ward_VT).xlsx', sheetname='Towns')\n",
    "wards_df = pd.read_excel('Myanmar PCodes Release-VIII_Aug2015 (StRgn_Dist_Tsp_Town_Ward_VT).xlsx', sheetname='Wards')\n",
    "VT_df = pd.read_excel('Myanmar PCodes Release-VIII_Aug2015 (Villages).xlsx', sheetname=0)\n",
    "VT_pop_df = pd.read_excel('BaselineData_Census_VTWard_with_Pcode_MIMU_09Sep2015_MMR.xlsx', sheetname=0)\n",
    "ward_pop_df = pd.read_excel('BaselineData_Census_VTWard_with_Pcode_MIMU_09Sep2015_MMR.xlsx', sheetname=1)"
   ]
  },
  {
   "cell_type": "markdown",
   "metadata": {},
   "source": [
    "# Get Ward Locations"
   ]
  },
  {
   "cell_type": "markdown",
   "metadata": {},
   "source": [
    "Join towns_df and wards_df on `Town_Pcode`"
   ]
  },
  {
   "cell_type": "code",
   "execution_count": 4,
   "metadata": {
    "collapsed": true
   },
   "outputs": [],
   "source": [
    "wards_geo_df= pd.merge(towns_df[['Township', 'District','Town_Pcode','Longitude','Latitude']], wards_df[['Town_Pcode', 'Ward_Pcode', 'Ward']], on = 'Town_Pcode')"
   ]
  },
  {
   "cell_type": "markdown",
   "metadata": {},
   "source": [
    "# Get Village Tract Lat/Long"
   ]
  },
  {
   "cell_type": "markdown",
   "metadata": {},
   "source": [
    "Group by Village Tract, get average Lat and Long "
   ]
  },
  {
   "cell_type": "code",
   "execution_count": 6,
   "metadata": {
    "collapsed": false
   },
   "outputs": [
    {
     "data": {
      "text/plain": [
       "Index(['SR_Pcode', 'State_Region', 'D_Pcode', 'District', 'TS_Pcode',\n",
       "       'Township', 'VT_Pcode', 'Village_Tract', 'Village_Pcode', 'Village',\n",
       "       'Village_Mya_MMR3', 'Alternate_Vlg_name_Eng', 'Alternate_Vll_Name_Mya',\n",
       "       'Longitude', 'Latitude', 'Source', 'Remark', 'Remark_2'],\n",
       "      dtype='object')"
      ]
     },
     "execution_count": 6,
     "metadata": {},
     "output_type": "execute_result"
    }
   ],
   "source": [
    "VT_df.columns"
   ]
  },
  {
   "cell_type": "code",
   "execution_count": 11,
   "metadata": {
    "collapsed": false
   },
   "outputs": [],
   "source": [
    "VT_geo_df = VT_df.groupby(['VT_Pcode', 'Village_Tract', 'District', 'Township'])['Longitude', 'Latitude'].mean().reset_index()"
   ]
  },
  {
   "cell_type": "markdown",
   "metadata": {},
   "source": [
    "# Get Village Tract and Ward Population\n"
   ]
  },
  {
   "cell_type": "markdown",
   "metadata": {},
   "source": [
    "Oddly enough, the `ward_pop_df` has duplicate Ward entries that differ on `Ward Name_MMR` entries in MMR language, but then have different population counts. I'll group by Ward_Pcode and take the average total population."
   ]
  },
  {
   "cell_type": "code",
   "execution_count": 22,
   "metadata": {
    "collapsed": false
   },
   "outputs": [
    {
     "name": "stdout",
     "output_type": "stream",
     "text": [
      "(3170, 7)\n",
      "(3058, 12)\n",
      "3170\n",
      "3011\n"
     ]
    }
   ],
   "source": [
    "print(wards_geo_df.shape)\n",
    "print(ward_pop_df.shape) #OK, there are some missing wards for population data \n",
    "print(wards_geo_df.Ward_Pcode.nunique())\n",
    "print(ward_pop_df.Ward_Pcode.nunique())"
   ]
  },
  {
   "cell_type": "code",
   "execution_count": 24,
   "metadata": {
    "collapsed": true
   },
   "outputs": [],
   "source": [
    "ward_pop_df = ward_pop_df.groupby(['Ward_Pcode', 'Ward']).agg({'Total':'mean'}).reset_index()"
   ]
  },
  {
   "cell_type": "code",
   "execution_count": 27,
   "metadata": {
    "collapsed": false
   },
   "outputs": [
    {
     "name": "stdout",
     "output_type": "stream",
     "text": [
      "(3170, 7)\n",
      "(3011, 3)\n",
      "3170\n",
      "3011\n"
     ]
    }
   ],
   "source": [
    "print(wards_geo_df.shape)\n",
    "print(ward_pop_df.shape) #OK, there are some missing wards for population data \n",
    "print(wards_geo_df.Ward_Pcode.nunique())\n",
    "print(ward_pop_df.Ward_Pcode.nunique())"
   ]
  },
  {
   "cell_type": "code",
   "execution_count": 28,
   "metadata": {
    "collapsed": true
   },
   "outputs": [],
   "source": [
    "wards_geo_pop_df = pd.merge(wards_geo_df, ward_pop_df, on = 'Ward_Pcode', how = 'left')"
   ]
  },
  {
   "cell_type": "code",
   "execution_count": 30,
   "metadata": {
    "collapsed": false
   },
   "outputs": [
    {
     "name": "stdout",
     "output_type": "stream",
     "text": [
      "<class 'pandas.core.frame.DataFrame'>\n",
      "Int64Index: 3170 entries, 0 to 3169\n",
      "Data columns (total 9 columns):\n",
      "Township      3170 non-null object\n",
      "District      3170 non-null object\n",
      "Town_Pcode    3170 non-null object\n",
      "Longitude     3170 non-null float64\n",
      "Latitude      3170 non-null float64\n",
      "Ward_Pcode    3170 non-null object\n",
      "Ward_x        3170 non-null object\n",
      "Ward_y        2998 non-null object\n",
      "Total         2998 non-null float64\n",
      "dtypes: float64(3), object(6)\n",
      "memory usage: 247.7+ KB\n"
     ]
    }
   ],
   "source": [
    "wards_geo_pop_df.info() #OK, so there are Pcodes that are exclusive to each dataset"
   ]
  },
  {
   "cell_type": "markdown",
   "metadata": {},
   "source": [
    "Now, let's join the Village Tract data together "
   ]
  },
  {
   "cell_type": "code",
   "execution_count": 33,
   "metadata": {
    "collapsed": false
   },
   "outputs": [
    {
     "name": "stdout",
     "output_type": "stream",
     "text": [
      "(13974, 6)\n",
      "(13240, 11)\n",
      "13970\n",
      "13071\n"
     ]
    }
   ],
   "source": [
    "print(VT_geo_df.shape)\n",
    "print(VT_pop_df.shape) \n",
    "print(VT_geo_df.VT_Pcode.nunique())\n",
    "print(VT_pop_df.VT_Pcode.nunique()) #OK, there are some missing Village Tracts for population data "
   ]
  },
  {
   "cell_type": "code",
   "execution_count": 34,
   "metadata": {
    "collapsed": false
   },
   "outputs": [
    {
     "data": {
      "text/plain": [
       "Index(['State/Region Code', 'State/Region', 'Tsp_code', 'Township',\n",
       "       'Township MMR', 'VT_Pcode', 'Village Tract', 'Village_Tract_MMR',\n",
       "       'Total', 'Male', 'Female'],\n",
       "      dtype='object')"
      ]
     },
     "execution_count": 34,
     "metadata": {},
     "output_type": "execute_result"
    }
   ],
   "source": [
    "VT_pop_df.columns"
   ]
  },
  {
   "cell_type": "code",
   "execution_count": 36,
   "metadata": {
    "collapsed": true
   },
   "outputs": [],
   "source": [
    "VT_pop_df = VT_pop_df.groupby(['VT_Pcode', 'Village Tract']).agg({'Total':'mean'}).reset_index()"
   ]
  },
  {
   "cell_type": "code",
   "execution_count": 37,
   "metadata": {
    "collapsed": true
   },
   "outputs": [],
   "source": [
    "VT_geo_pop_df = pd.merge(VT_geo_df, VT_pop_df, on = 'VT_Pcode', how = 'left')"
   ]
  },
  {
   "cell_type": "code",
   "execution_count": 38,
   "metadata": {
    "collapsed": false
   },
   "outputs": [
    {
     "name": "stdout",
     "output_type": "stream",
     "text": [
      "<class 'pandas.core.frame.DataFrame'>\n",
      "Int64Index: 13974 entries, 0 to 13973\n",
      "Data columns (total 8 columns):\n",
      "VT_Pcode         13974 non-null object\n",
      "Village_Tract    13974 non-null object\n",
      "District         13974 non-null object\n",
      "Township         13974 non-null object\n",
      "Longitude        13119 non-null float64\n",
      "Latitude         13119 non-null float64\n",
      "Village Tract    13064 non-null object\n",
      "Total            13064 non-null float64\n",
      "dtypes: float64(3), object(5)\n",
      "memory usage: 982.5+ KB\n"
     ]
    }
   ],
   "source": [
    "VT_geo_pop_df.info() #nice "
   ]
  }
 ],
 "metadata": {
  "kernelspec": {
   "display_name": "Python 3",
   "language": "python",
   "name": "python3"
  },
  "language_info": {
   "codemirror_mode": {
    "name": "ipython",
    "version": 3
   },
   "file_extension": ".py",
   "mimetype": "text/x-python",
   "name": "python",
   "nbconvert_exporter": "python",
   "pygments_lexer": "ipython3",
   "version": "3.6.0"
  }
 },
 "nbformat": 4,
 "nbformat_minor": 2
}
