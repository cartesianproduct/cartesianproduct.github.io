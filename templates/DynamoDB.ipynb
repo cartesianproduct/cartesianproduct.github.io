{
 "cells": [
  {
   "cell_type": "code",
   "execution_count": 109,
   "metadata": {
    "collapsed": false
   },
   "outputs": [
    {
     "data": {
      "text/plain": [
       "{u'ConsumedCapacityUnits': 1.0}"
      ]
     },
     "execution_count": 109,
     "metadata": {},
     "output_type": "execute_result"
    }
   ],
   "source": [
    "import boto.dynamodb\n",
    "import json\n",
    "import datetime\n",
    "import ast\n",
    "import simplejson as j\n",
    "f = open(\"rootkey.json\")\n",
    "data = json.load(f) \n",
    "aws_access_key_id = data['AWSAccessKeyId'] \n",
    "aws_secret_access_key = data['AWSSecretKey']\n",
    "region_name = data['region_name']\n",
    "\n",
    "c = boto.dynamodb.connect_to_region(aws_access_key_id=aws_access_key_id,\n",
    "                                    aws_secret_access_key=aws_secret_access_key,\n",
    "                                    region_name=region_name)\n",
    "\n",
    "table = c.get_table(\"MyanmarCP\")\n",
    "\n",
    "\n",
    "# add features here from Google Sheets\n",
    "Name = j.dumps('string123katie')\n",
    "PCode = j.dumps('string')\n",
    "Census = j.dumps([1334])\n",
    "Geography = j.dumps([\"polygons\"])\n",
    "User_Input =  j.dumps('user input')\n",
    "ReceivedTime =  datetime.datetime.now().strftime(\"%d %B %Y %I:%M%p\")\n",
    " \n",
    "# use ast.literal_eval(string value) to get the data out of stringify setup\n",
    "\n",
    "item_data = {\n",
    "        'Name': Name,\n",
    "        'PCode': PCode,\n",
    "        'Census': Census,\n",
    "        'Geography': Geography,\n",
    "        'User Input': User_Input,\n",
    "        'ReceivedTime': ReceivedTime \n",
    "    }\n",
    "\n",
    "\n",
    "item = table.new_item(\n",
    "        hash_key=PCode,\n",
    "        range_key=None,\n",
    "        attrs=item_data\n",
    "    )\n",
    "\n",
    "item.put()\n",
    "\n",
    "\n",
    "# c.list_tables() # sees tables\n",
    "# c.describe_table('MyanmarCP') # see what the table is all about\n",
    "# item = table.get_item(\n",
    "#         hash_key='Townships',\n",
    "#         range_key=None)\n",
    "\n",
    "# print item\n",
    "\n",
    "# table = c.get_table('MyanmarCP') # get the table by pco\n",
    "# item = table.get_item(\n",
    "#         hash_key=PCode,\n",
    "#         range_key=None\n",
    "#     )\n",
    "# item.delete()\n",
    "\n",
    "# table.has_item(hash_key='Townships')\n",
    "\n",
    "# References:\n",
    "\n",
    "# https://simplejson.readthedocs.io/en/latest/\n",
    "# http://boto.cloudhackers.com/en/latest/dynamodb_tut.html\n",
    "# http://boto.cloudhackers.com/en/latest/ref/dynamodb.html\n",
    "# https://developers.google.com/sheets/api/quickstart/python\n",
    "# https://mail.python.org/pipermail/tutor/2013-June/096234.html\n",
    "# http://pbpython.com/pandas-google-forms-part1.html"
   ]
  }
 ],
 "metadata": {
  "kernelspec": {
   "display_name": "Python [conda root]",
   "language": "python",
   "name": "conda-root-py"
  },
  "language_info": {
   "codemirror_mode": {
    "name": "ipython",
    "version": 2
   },
   "file_extension": ".py",
   "mimetype": "text/x-python",
   "name": "python",
   "nbconvert_exporter": "python",
   "pygments_lexer": "ipython2",
   "version": "2.7.13"
  }
 },
 "nbformat": 4,
 "nbformat_minor": 2
}
